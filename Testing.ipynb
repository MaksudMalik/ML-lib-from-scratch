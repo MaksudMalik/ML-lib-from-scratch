{
 "cells": [
  {
   "cell_type": "code",
   "execution_count": 1,
   "metadata": {},
   "outputs": [],
   "source": [
    "import numpy as np\n",
    "import pandas as pd\n",
    "from sklearn.linear_model import LinearRegression\n",
    "from sklearn.model_selection import train_test_split\n",
    "from Lib import *"
   ]
  },
  {
   "cell_type": "code",
   "execution_count": 2,
   "metadata": {},
   "outputs": [],
   "source": [
    "df=pd.read_csv(\"mlr_data.csv\")"
   ]
  },
  {
   "cell_type": "code",
   "execution_count": 3,
   "metadata": {},
   "outputs": [],
   "source": [
    "X=df.drop(columns='y')\n",
    "Y=df.y\n",
    "X_train, X_test, Y_train, Y_test = train_test_split(X, Y, test_size=0.1)"
   ]
  },
  {
   "cell_type": "code",
   "execution_count": 4,
   "metadata": {},
   "outputs": [
    {
     "name": "stdout",
     "output_type": "stream",
     "text": [
      "Iteration=100, Cost=1.342323626456472, weight/weights=[ 2.27002456 -3.30698119  1.85879688], bias=0.5491430043519262\n",
      "Iteration=200, Cost=1.1717614525349984, weight/weights=[ 2.2460581  -3.32932101  1.83023284], bias=0.9597654371250542\n",
      "Iteration=300, Cost=1.0325560908627744, weight/weights=[ 2.2238319  -3.34901084  1.80447963], bias=1.3307257324559567\n",
      "Iteration=400, Cost=0.9189409056604171, weight/weights=[ 2.20375214 -3.36679894  1.78121367], bias=1.6658590737204104\n",
      "Iteration=500, Cost=0.8262116447072617, weight/weights=[ 2.18561165 -3.38286908  1.76019472], bias=1.9686255910962944\n",
      "Iteration=600, Cost=0.7505288403215307, weight/weights=[ 2.16922316 -3.39738719  1.74120575], bias=2.2421512382256403\n",
      "Iteration=700, Cost=0.6887588356777719, weight/weights=[ 2.15441744 -3.41050315  1.72405072], bias=2.48926006745144\n",
      "Iteration=800, Cost=0.6383440353191137, weight/weights=[ 2.14104165 -3.42235239  1.7085525 ], bias=2.7125033871262114\n",
      "Iteration=900, Cost=0.597197007568968, weight/weights=[ 2.12895768 -3.43305724  1.69455109], bias=2.91418610293833\n",
      "Iteration=1000, Cost=0.5636140541381027, weight/weights=[ 2.11804076 -3.44272822  1.68190191], bias=3.096390515220897\n"
     ]
    }
   ],
   "source": [
    "model=LinearRegression()\n",
    "model.train(X_train,Y_train)"
   ]
  },
  {
   "cell_type": "code",
   "execution_count": 5,
   "metadata": {},
   "outputs": [],
   "source": [
    "from sklearn.datasets import make_regression\n",
    "X, y, coef = make_regression(n_samples=1000,\n",
    "                             n_features=2,\n",
    "                             n_informative=2,\n",
    "                             noise=10.0,\n",
    "                             bias=1.0,\n",
    "                             coef=True,\n",
    "                             random_state=42)"
   ]
  },
  {
   "cell_type": "code",
   "execution_count": 6,
   "metadata": {},
   "outputs": [
    {
     "data": {
      "text/html": [
       "<div>\n",
       "<style scoped>\n",
       "    .dataframe tbody tr th:only-of-type {\n",
       "        vertical-align: middle;\n",
       "    }\n",
       "\n",
       "    .dataframe tbody tr th {\n",
       "        vertical-align: top;\n",
       "    }\n",
       "\n",
       "    .dataframe thead th {\n",
       "        text-align: right;\n",
       "    }\n",
       "</style>\n",
       "<table border=\"1\" class=\"dataframe\">\n",
       "  <thead>\n",
       "    <tr style=\"text-align: right;\">\n",
       "      <th></th>\n",
       "      <th>feature1</th>\n",
       "      <th>feature2</th>\n",
       "      <th>target (y)</th>\n",
       "      <th>weight1</th>\n",
       "      <th>weight2</th>\n",
       "      <th>bias</th>\n",
       "      <th>y_hat</th>\n",
       "    </tr>\n",
       "  </thead>\n",
       "  <tbody>\n",
       "    <tr>\n",
       "      <th>0</th>\n",
       "      <td>-0.167118</td>\n",
       "      <td>0.146714</td>\n",
       "      <td>-13.996950</td>\n",
       "      <td>40.710649</td>\n",
       "      <td>6.600984</td>\n",
       "      <td>1</td>\n",
       "      <td>-4.835031</td>\n",
       "    </tr>\n",
       "    <tr>\n",
       "      <th>1</th>\n",
       "      <td>-0.020902</td>\n",
       "      <td>0.117327</td>\n",
       "      <td>-11.678089</td>\n",
       "      <td>40.710649</td>\n",
       "      <td>6.600984</td>\n",
       "      <td>1</td>\n",
       "      <td>0.923559</td>\n",
       "    </tr>\n",
       "    <tr>\n",
       "      <th>2</th>\n",
       "      <td>0.150419</td>\n",
       "      <td>0.364961</td>\n",
       "      <td>18.775455</td>\n",
       "      <td>40.710649</td>\n",
       "      <td>6.600984</td>\n",
       "      <td>1</td>\n",
       "      <td>9.532753</td>\n",
       "    </tr>\n",
       "    <tr>\n",
       "      <th>3</th>\n",
       "      <td>0.555604</td>\n",
       "      <td>0.089581</td>\n",
       "      <td>7.661465</td>\n",
       "      <td>40.710649</td>\n",
       "      <td>6.600984</td>\n",
       "      <td>1</td>\n",
       "      <td>24.210339</td>\n",
       "    </tr>\n",
       "    <tr>\n",
       "      <th>4</th>\n",
       "      <td>0.058209</td>\n",
       "      <td>-1.142970</td>\n",
       "      <td>-13.195530</td>\n",
       "      <td>40.710649</td>\n",
       "      <td>6.600984</td>\n",
       "      <td>1</td>\n",
       "      <td>-4.175014</td>\n",
       "    </tr>\n",
       "  </tbody>\n",
       "</table>\n",
       "</div>"
      ],
      "text/plain": [
       "   feature1  feature2  target (y)    weight1   weight2  bias      y_hat\n",
       "0 -0.167118  0.146714  -13.996950  40.710649  6.600984     1  -4.835031\n",
       "1 -0.020902  0.117327  -11.678089  40.710649  6.600984     1   0.923559\n",
       "2  0.150419  0.364961   18.775455  40.710649  6.600984     1   9.532753\n",
       "3  0.555604  0.089581    7.661465  40.710649  6.600984     1  24.210339\n",
       "4  0.058209 -1.142970  -13.195530  40.710649  6.600984     1  -4.175014"
      ]
     },
     "execution_count": 6,
     "metadata": {},
     "output_type": "execute_result"
    }
   ],
   "source": [
    "df = pd.DataFrame(\n",
    "           data={'feature1':X[:,0],\n",
    "                 'feature2':X[:,1],\n",
    "                 'target (y)':y, \n",
    "                 'weight1':coef[0],\n",
    "                 'weight2':coef[1], \n",
    "                 'bias':1 , \n",
    "                 'y_hat': ((coef[0]*X[:,0])+(coef[1]*X[:,1]))+1 })\n",
    "df.head() # let view the dataframe"
   ]
  },
  {
   "cell_type": "code",
   "execution_count": 7,
   "metadata": {},
   "outputs": [],
   "source": [
    "xnew=df.drop(columns=['target (y)','weight1','weight2','bias','y_hat'],index=None)\n",
    "ynew=df['target (y)']"
   ]
  },
  {
   "cell_type": "code",
   "execution_count": 8,
   "metadata": {},
   "outputs": [
    {
     "name": "stdout",
     "output_type": "stream",
     "text": [
      "Iteration=100, Cost=172.69195307245843, weight/weights=[24.86450492  4.46121636], bias=1.3057165000942563\n",
      "Iteration=200, Cost=67.7235117772856, weight/weights=[34.66606438  5.98457516], bias=1.376381043158293\n",
      "Iteration=300, Cost=51.444519892129215, weight/weights=[38.53577821  6.51080373], bias=1.2462190688980073\n",
      "Iteration=400, Cost=48.901576089619915, weight/weights=[40.065671    6.69515102], bias=1.1384063232944972\n",
      "Iteration=500, Cost=48.502087740917794, weight/weights=[40.67126174  6.76079132], bias=1.0756012155783974\n",
      "Iteration=600, Cost=48.43905138169624, weight/weights=[40.91124332  6.78458974], bias=1.0435085420615098\n",
      "Iteration=700, Cost=48.429070264048214, weight/weights=[41.0064369   6.79338437], bias=1.0281939709002264\n",
      "Iteration=800, Cost=48.42748556844523, weight/weights=[41.04423105  6.79669743], bias=1.0211844767606206\n",
      "Iteration=900, Cost=48.42723342713848, weight/weights=[41.05924828  6.79796867], bias=1.0180643621666319\n",
      "Iteration=1000, Cost=48.42719324025192, weight/weights=[41.06521959  6.79846469], bias=1.0167026749413846\n"
     ]
    }
   ],
   "source": [
    "model=LinearRegression()\n",
    "model.train(xnew,ynew)"
   ]
  },
  {
   "cell_type": "code",
   "execution_count": 9,
   "metadata": {},
   "outputs": [
    {
     "data": {
      "text/plain": [
       "array([41.06521959,  6.79846469])"
      ]
     },
     "execution_count": 9,
     "metadata": {},
     "output_type": "execute_result"
    }
   ],
   "source": [
    "model.coefficient"
   ]
  },
  {
   "cell_type": "code",
   "execution_count": 10,
   "metadata": {},
   "outputs": [
    {
     "data": {
      "text/plain": [
       "2.6726913609084364"
      ]
     },
     "execution_count": 10,
     "metadata": {},
     "output_type": "execute_result"
    }
   ],
   "source": [
    "a=np.array([0.020902,0.117327])\n",
    "model.predict(a)"
   ]
  }
 ],
 "metadata": {
  "kernelspec": {
   "display_name": "Python 3",
   "language": "python",
   "name": "python3"
  },
  "language_info": {
   "codemirror_mode": {
    "name": "ipython",
    "version": 3
   },
   "file_extension": ".py",
   "mimetype": "text/x-python",
   "name": "python",
   "nbconvert_exporter": "python",
   "pygments_lexer": "ipython3",
   "version": "3.8.3"
  }
 },
 "nbformat": 4,
 "nbformat_minor": 2
}
