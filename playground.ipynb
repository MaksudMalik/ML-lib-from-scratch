{
 "cells": [
  {
   "cell_type": "code",
   "execution_count": 1,
   "metadata": {},
   "outputs": [],
   "source": [
    "import numpy as np\n",
    "import pandas as pd\n",
    "import matplotlib.pyplot as plt\n",
    "import seaborn as sns\n",
    "from sklearn.model_selection import train_test_split\n",
    "from sklearn.metrics import mean_absolute_error, mean_squared_error, r2_score, accuracy_score\n",
    "from sklearn.linear_model import LinearRegression as sk_lr\n",
    "from sklearn.linear_model import LogisticRegression as sk_log_r\n",
    "import gc\n",
    "np.random.seed(42)"
   ]
  },
  {
   "cell_type": "markdown",
   "metadata": {},
   "source": [
    "### 1) Linear Regression"
   ]
  },
  {
   "cell_type": "markdown",
   "metadata": {},
   "source": [
    "##### 1.1 Creating custom dataset for testing model"
   ]
  },
  {
   "cell_type": "code",
   "execution_count": 2,
   "metadata": {},
   "outputs": [],
   "source": [
    "from sklearn.datasets import make_regression\n",
    "X, y, coef = make_regression(n_samples=1000,\n",
    "                             n_features=2,\n",
    "                             n_informative=2,\n",
    "                             noise=10.0,\n",
    "                             bias=1.0,\n",
    "                             coef=True,\n",
    "                             random_state=42)"
   ]
  },
  {
   "cell_type": "code",
   "execution_count": 3,
   "metadata": {},
   "outputs": [
    {
     "data": {
      "text/html": [
       "<div>\n",
       "<style scoped>\n",
       "    .dataframe tbody tr th:only-of-type {\n",
       "        vertical-align: middle;\n",
       "    }\n",
       "\n",
       "    .dataframe tbody tr th {\n",
       "        vertical-align: top;\n",
       "    }\n",
       "\n",
       "    .dataframe thead th {\n",
       "        text-align: right;\n",
       "    }\n",
       "</style>\n",
       "<table border=\"1\" class=\"dataframe\">\n",
       "  <thead>\n",
       "    <tr style=\"text-align: right;\">\n",
       "      <th></th>\n",
       "      <th>feature1</th>\n",
       "      <th>feature2</th>\n",
       "      <th>target (y)</th>\n",
       "      <th>weight1</th>\n",
       "      <th>weight2</th>\n",
       "      <th>bias</th>\n",
       "      <th>y_hat</th>\n",
       "    </tr>\n",
       "  </thead>\n",
       "  <tbody>\n",
       "    <tr>\n",
       "      <th>0</th>\n",
       "      <td>-0.167118</td>\n",
       "      <td>0.146714</td>\n",
       "      <td>-13.996950</td>\n",
       "      <td>40.710649</td>\n",
       "      <td>6.600984</td>\n",
       "      <td>1</td>\n",
       "      <td>-4.835031</td>\n",
       "    </tr>\n",
       "    <tr>\n",
       "      <th>1</th>\n",
       "      <td>-0.020902</td>\n",
       "      <td>0.117327</td>\n",
       "      <td>-11.678089</td>\n",
       "      <td>40.710649</td>\n",
       "      <td>6.600984</td>\n",
       "      <td>1</td>\n",
       "      <td>0.923559</td>\n",
       "    </tr>\n",
       "    <tr>\n",
       "      <th>2</th>\n",
       "      <td>0.150419</td>\n",
       "      <td>0.364961</td>\n",
       "      <td>18.775455</td>\n",
       "      <td>40.710649</td>\n",
       "      <td>6.600984</td>\n",
       "      <td>1</td>\n",
       "      <td>9.532753</td>\n",
       "    </tr>\n",
       "    <tr>\n",
       "      <th>3</th>\n",
       "      <td>0.555604</td>\n",
       "      <td>0.089581</td>\n",
       "      <td>7.661465</td>\n",
       "      <td>40.710649</td>\n",
       "      <td>6.600984</td>\n",
       "      <td>1</td>\n",
       "      <td>24.210339</td>\n",
       "    </tr>\n",
       "    <tr>\n",
       "      <th>4</th>\n",
       "      <td>0.058209</td>\n",
       "      <td>-1.142970</td>\n",
       "      <td>-13.195530</td>\n",
       "      <td>40.710649</td>\n",
       "      <td>6.600984</td>\n",
       "      <td>1</td>\n",
       "      <td>-4.175014</td>\n",
       "    </tr>\n",
       "  </tbody>\n",
       "</table>\n",
       "</div>"
      ],
      "text/plain": [
       "   feature1  feature2  target (y)    weight1   weight2  bias      y_hat\n",
       "0 -0.167118  0.146714  -13.996950  40.710649  6.600984     1  -4.835031\n",
       "1 -0.020902  0.117327  -11.678089  40.710649  6.600984     1   0.923559\n",
       "2  0.150419  0.364961   18.775455  40.710649  6.600984     1   9.532753\n",
       "3  0.555604  0.089581    7.661465  40.710649  6.600984     1  24.210339\n",
       "4  0.058209 -1.142970  -13.195530  40.710649  6.600984     1  -4.175014"
      ]
     },
     "execution_count": 3,
     "metadata": {},
     "output_type": "execute_result"
    }
   ],
   "source": [
    "df = pd.DataFrame(\n",
    "           data={'feature1':X[:,0],\n",
    "                 'feature2':X[:,1],\n",
    "                 'target (y)':y, \n",
    "                 'weight1':coef[0],\n",
    "                 'weight2':coef[1], \n",
    "                 'bias':1 , \n",
    "                 'y_hat': ((coef[0]*X[:,0])+(coef[1]*X[:,1]))+1 })\n",
    "df.head()"
   ]
  },
  {
   "cell_type": "code",
   "execution_count": 4,
   "metadata": {},
   "outputs": [],
   "source": [
    "X=df.drop(columns=['target (y)','weight1','weight2','bias','y_hat'],index=None)\n",
    "Y=df['target (y)']\n",
    "X_train, X_test, Y_train, Y_test = train_test_split(X, Y, test_size=0.2)"
   ]
  },
  {
   "cell_type": "markdown",
   "metadata": {},
   "source": [
    "##### 1.2 Training the custom made model with the dataset"
   ]
  },
  {
   "cell_type": "code",
   "execution_count": 5,
   "metadata": {},
   "outputs": [],
   "source": [
    "#Import our custom model\n",
    "from my_lib.LinearRegression_LinAlg import LinearRegression as custom_lr\n",
    "# from my_lib.LinearRegression_GradDesc import LinearRegression as custom_lr"
   ]
  },
  {
   "cell_type": "code",
   "execution_count": 6,
   "metadata": {},
   "outputs": [
    {
     "name": "stdout",
     "output_type": "stream",
     "text": [
      "Model Trained\n",
      "Custom model weights= [41.39506319  6.6740871 ]\n",
      "Custom model bias=: 1.1125160830930998\n"
     ]
    }
   ],
   "source": [
    "custom_model=custom_lr()\n",
    "custom_model.train(X_train,Y_train)\n",
    "print(\"Model Trained\")\n",
    "print(\"Custom model weights=\", custom_model.coefficient)\n",
    "print(\"Custom model bias=:\", custom_model.bias)"
   ]
  },
  {
   "cell_type": "code",
   "execution_count": 7,
   "metadata": {},
   "outputs": [
    {
     "data": {
      "text/plain": [
       "0.9362992668663301"
      ]
     },
     "execution_count": 7,
     "metadata": {},
     "output_type": "execute_result"
    }
   ],
   "source": [
    "Y_pred = custom_model.predict(X_test)\n",
    "accuracy = r2_score(Y_test, Y_pred)\n",
    "accuracy"
   ]
  },
  {
   "cell_type": "markdown",
   "metadata": {},
   "source": [
    "##### 1.3 Custom model VS sci-kit learn's regression "
   ]
  },
  {
   "cell_type": "code",
   "execution_count": 8,
   "metadata": {},
   "outputs": [
    {
     "name": "stdout",
     "output_type": "stream",
     "text": [
      "Model Trained\n",
      "Sklearn weights= [41.39506319  6.6740871 ]\n",
      "Sklearn bias=: 1.1125160830930987\n"
     ]
    }
   ],
   "source": [
    "model=sk_lr()\n",
    "model.fit(X_train,Y_train)\n",
    "print(\"Model Trained\")\n",
    "print(\"Sklearn weights=\", model.coef_)\n",
    "print(\"Sklearn bias=:\", model.intercept_)"
   ]
  },
  {
   "cell_type": "code",
   "execution_count": 9,
   "metadata": {},
   "outputs": [
    {
     "data": {
      "text/plain": [
       "0.9362992668663301"
      ]
     },
     "execution_count": 9,
     "metadata": {},
     "output_type": "execute_result"
    }
   ],
   "source": [
    "Y_pred = model.predict(X_test)\n",
    "accuracy = r2_score(Y_test, Y_pred)\n",
    "accuracy"
   ]
  },
  {
   "cell_type": "code",
   "execution_count": 10,
   "metadata": {},
   "outputs": [],
   "source": [
    "del X, y, coef, df, X_train, X_test, Y_train, Y_test, Y_pred, accuracy\n",
    "gc.collect();"
   ]
  },
  {
   "cell_type": "markdown",
   "metadata": {},
   "source": [
    "### 2) Logistic Regression"
   ]
  },
  {
   "cell_type": "markdown",
   "metadata": {},
   "source": [
    "##### 2.1 Creating custom dataset for testing model"
   ]
  },
  {
   "cell_type": "code",
   "execution_count": 11,
   "metadata": {},
   "outputs": [
    {
     "data": {
      "text/html": [
       "<div>\n",
       "<style scoped>\n",
       "    .dataframe tbody tr th:only-of-type {\n",
       "        vertical-align: middle;\n",
       "    }\n",
       "\n",
       "    .dataframe tbody tr th {\n",
       "        vertical-align: top;\n",
       "    }\n",
       "\n",
       "    .dataframe thead th {\n",
       "        text-align: right;\n",
       "    }\n",
       "</style>\n",
       "<table border=\"1\" class=\"dataframe\">\n",
       "  <thead>\n",
       "    <tr style=\"text-align: right;\">\n",
       "      <th></th>\n",
       "      <th>Feature_1</th>\n",
       "      <th>Feature_2</th>\n",
       "      <th>Feature_3</th>\n",
       "      <th>Feature_4</th>\n",
       "      <th>Feature_5</th>\n",
       "      <th>Target</th>\n",
       "    </tr>\n",
       "  </thead>\n",
       "  <tbody>\n",
       "    <tr>\n",
       "      <th>0</th>\n",
       "      <td>0.317453</td>\n",
       "      <td>0.768328</td>\n",
       "      <td>-0.332860</td>\n",
       "      <td>-1.218005</td>\n",
       "      <td>1.440387</td>\n",
       "      <td>1</td>\n",
       "    </tr>\n",
       "    <tr>\n",
       "      <th>1</th>\n",
       "      <td>1.065172</td>\n",
       "      <td>0.337779</td>\n",
       "      <td>1.452617</td>\n",
       "      <td>-0.828461</td>\n",
       "      <td>0.979448</td>\n",
       "      <td>1</td>\n",
       "    </tr>\n",
       "    <tr>\n",
       "      <th>2</th>\n",
       "      <td>0.466671</td>\n",
       "      <td>1.567346</td>\n",
       "      <td>1.521006</td>\n",
       "      <td>0.818854</td>\n",
       "      <td>-0.965285</td>\n",
       "      <td>0</td>\n",
       "    </tr>\n",
       "    <tr>\n",
       "      <th>3</th>\n",
       "      <td>1.497432</td>\n",
       "      <td>0.224761</td>\n",
       "      <td>1.857702</td>\n",
       "      <td>-1.157030</td>\n",
       "      <td>1.367534</td>\n",
       "      <td>1</td>\n",
       "    </tr>\n",
       "    <tr>\n",
       "      <th>4</th>\n",
       "      <td>-1.366858</td>\n",
       "      <td>1.150180</td>\n",
       "      <td>0.592567</td>\n",
       "      <td>-0.934416</td>\n",
       "      <td>1.105847</td>\n",
       "      <td>1</td>\n",
       "    </tr>\n",
       "    <tr>\n",
       "      <th>...</th>\n",
       "      <td>...</td>\n",
       "      <td>...</td>\n",
       "      <td>...</td>\n",
       "      <td>...</td>\n",
       "      <td>...</td>\n",
       "      <td>...</td>\n",
       "    </tr>\n",
       "    <tr>\n",
       "      <th>995</th>\n",
       "      <td>-1.951102</td>\n",
       "      <td>-0.125265</td>\n",
       "      <td>0.143588</td>\n",
       "      <td>-1.158613</td>\n",
       "      <td>1.368888</td>\n",
       "      <td>1</td>\n",
       "    </tr>\n",
       "    <tr>\n",
       "      <th>996</th>\n",
       "      <td>-0.889241</td>\n",
       "      <td>1.772590</td>\n",
       "      <td>0.955301</td>\n",
       "      <td>0.508680</td>\n",
       "      <td>-0.598465</td>\n",
       "      <td>0</td>\n",
       "    </tr>\n",
       "    <tr>\n",
       "      <th>997</th>\n",
       "      <td>-1.153332</td>\n",
       "      <td>1.513910</td>\n",
       "      <td>-1.687344</td>\n",
       "      <td>-1.162699</td>\n",
       "      <td>1.376134</td>\n",
       "      <td>1</td>\n",
       "    </tr>\n",
       "    <tr>\n",
       "      <th>998</th>\n",
       "      <td>-1.070852</td>\n",
       "      <td>1.098807</td>\n",
       "      <td>1.911419</td>\n",
       "      <td>-0.807573</td>\n",
       "      <td>0.955887</td>\n",
       "      <td>1</td>\n",
       "    </tr>\n",
       "    <tr>\n",
       "      <th>999</th>\n",
       "      <td>-0.064078</td>\n",
       "      <td>-0.209269</td>\n",
       "      <td>0.536291</td>\n",
       "      <td>-2.034344</td>\n",
       "      <td>2.403570</td>\n",
       "      <td>1</td>\n",
       "    </tr>\n",
       "  </tbody>\n",
       "</table>\n",
       "<p>1000 rows × 6 columns</p>\n",
       "</div>"
      ],
      "text/plain": [
       "     Feature_1  Feature_2  Feature_3  Feature_4  Feature_5  Target\n",
       "0     0.317453   0.768328  -0.332860  -1.218005   1.440387       1\n",
       "1     1.065172   0.337779   1.452617  -0.828461   0.979448       1\n",
       "2     0.466671   1.567346   1.521006   0.818854  -0.965285       0\n",
       "3     1.497432   0.224761   1.857702  -1.157030   1.367534       1\n",
       "4    -1.366858   1.150180   0.592567  -0.934416   1.105847       1\n",
       "..         ...        ...        ...        ...        ...     ...\n",
       "995  -1.951102  -0.125265   0.143588  -1.158613   1.368888       1\n",
       "996  -0.889241   1.772590   0.955301   0.508680  -0.598465       0\n",
       "997  -1.153332   1.513910  -1.687344  -1.162699   1.376134       1\n",
       "998  -1.070852   1.098807   1.911419  -0.807573   0.955887       1\n",
       "999  -0.064078  -0.209269   0.536291  -2.034344   2.403570       1\n",
       "\n",
       "[1000 rows x 6 columns]"
      ]
     },
     "execution_count": 11,
     "metadata": {},
     "output_type": "execute_result"
    }
   ],
   "source": [
    "from sklearn.datasets import make_classification\n",
    "X, Y = make_classification(n_samples=1000,\n",
    "                           n_features=5,\n",
    "                           n_informative=2,\n",
    "                           n_redundant=1,\n",
    "                           n_repeated=0,\n",
    "                           n_classes=2,\n",
    "                           n_clusters_per_class=1,\n",
    "                           flip_y=0.1,\n",
    "                           random_state=42)\n",
    "df = pd.DataFrame(X, columns=[f'Feature_{i+1}' for i in range(X.shape[1])])\n",
    "df['Target'] = Y\n",
    "df\n"
   ]
  },
  {
   "cell_type": "code",
   "execution_count": 12,
   "metadata": {},
   "outputs": [],
   "source": [
    "X=df.drop(columns=['Target'],index=None)\n",
    "Y=df['Target']\n",
    "X_train, X_test, Y_train, Y_test = train_test_split(X, Y, test_size=0.2)"
   ]
  },
  {
   "cell_type": "markdown",
   "metadata": {},
   "source": [
    "##### 2.2 Training our Model with the dataset"
   ]
  },
  {
   "cell_type": "code",
   "execution_count": 13,
   "metadata": {},
   "outputs": [],
   "source": [
    "#Importing our Custom Model\n",
    "from my_lib.LogisticRegression import LogisticRegression as custom_log_r"
   ]
  },
  {
   "cell_type": "code",
   "execution_count": 14,
   "metadata": {},
   "outputs": [
    {
     "name": "stdout",
     "output_type": "stream",
     "text": [
      "Model Trained\n",
      "Custom classifier weights= [ 0.0382751  -0.01048686 -0.08953879 -0.90262316  1.06656721]\n",
      "Custom classifier bias=: 0.05553653328267255\n"
     ]
    }
   ],
   "source": [
    "custom_classifier=custom_log_r()\n",
    "custom_classifier.train(X_train,Y_train)\n",
    "print(\"Model Trained\")\n",
    "print(\"Custom classifier weights=\", custom_classifier.coefficient)\n",
    "print(\"Custom classifier bias=:\", custom_classifier.bias)"
   ]
  },
  {
   "cell_type": "code",
   "execution_count": 15,
   "metadata": {},
   "outputs": [
    {
     "data": {
      "text/plain": [
       "0.825"
      ]
     },
     "execution_count": 15,
     "metadata": {},
     "output_type": "execute_result"
    }
   ],
   "source": [
    "Y_pred = custom_classifier.predict(X_test)\n",
    "accuracy = accuracy_score(Y_test, Y_pred)\n",
    "accuracy"
   ]
  },
  {
   "cell_type": "markdown",
   "metadata": {},
   "source": [
    "##### 2.3 Custom Model vs SkLearn Classifier"
   ]
  },
  {
   "cell_type": "code",
   "execution_count": 16,
   "metadata": {},
   "outputs": [
    {
     "name": "stdout",
     "output_type": "stream",
     "text": [
      "Model Trained\n",
      "Sklearn Classifier weights= [[ 0.07504523 -0.22494571 -0.13279759 -1.1255616   1.32968553]]\n",
      "Sklearn Classifier bias=: [0.51550855]\n"
     ]
    }
   ],
   "source": [
    "classifier=sk_log_r()\n",
    "classifier.fit(X_train,Y_train)\n",
    "print(\"Model Trained\")\n",
    "print(\"Sklearn Classifier weights=\", classifier.coef_)\n",
    "print(\"Sklearn Classifier bias=:\", classifier.intercept_)"
   ]
  },
  {
   "cell_type": "code",
   "execution_count": 17,
   "metadata": {},
   "outputs": [
    {
     "data": {
      "text/plain": [
       "0.835"
      ]
     },
     "execution_count": 17,
     "metadata": {},
     "output_type": "execute_result"
    }
   ],
   "source": [
    "Y_pred = classifier.predict(X_test)\n",
    "accuracy = accuracy_score(Y_test, Y_pred)\n",
    "accuracy"
   ]
  },
  {
   "cell_type": "code",
   "execution_count": 18,
   "metadata": {},
   "outputs": [],
   "source": [
    "del X, Y, df, X_train, X_test, Y_train, Y_test, Y_pred, accuracy\n",
    "gc.collect();"
   ]
  },
  {
   "cell_type": "markdown",
   "metadata": {},
   "source": [
    "### 3) Encoders"
   ]
  },
  {
   "cell_type": "markdown",
   "metadata": {},
   "source": [
    "##### 3.1 One Hot Encoder"
   ]
  },
  {
   "cell_type": "code",
   "execution_count": 19,
   "metadata": {},
   "outputs": [],
   "source": [
    "import pandas as pd\n",
    "from my_lib.Encoders import OneHotEncoder\n",
    "onehotencoder=OneHotEncoder()"
   ]
  },
  {
   "cell_type": "code",
   "execution_count": 20,
   "metadata": {},
   "outputs": [
    {
     "data": {
      "text/html": [
       "<div>\n",
       "<style scoped>\n",
       "    .dataframe tbody tr th:only-of-type {\n",
       "        vertical-align: middle;\n",
       "    }\n",
       "\n",
       "    .dataframe tbody tr th {\n",
       "        vertical-align: top;\n",
       "    }\n",
       "\n",
       "    .dataframe thead th {\n",
       "        text-align: right;\n",
       "    }\n",
       "</style>\n",
       "<table border=\"1\" class=\"dataframe\">\n",
       "  <thead>\n",
       "    <tr style=\"text-align: right;\">\n",
       "      <th></th>\n",
       "      <th>Age</th>\n",
       "      <th>Gender</th>\n",
       "      <th>Dept</th>\n",
       "      <th>Education</th>\n",
       "      <th>Type</th>\n",
       "    </tr>\n",
       "  </thead>\n",
       "  <tbody>\n",
       "    <tr>\n",
       "      <th>0</th>\n",
       "      <td>26</td>\n",
       "      <td>Male</td>\n",
       "      <td>Police</td>\n",
       "      <td>Bachelor's</td>\n",
       "      <td>Cadre</td>\n",
       "    </tr>\n",
       "    <tr>\n",
       "      <th>1</th>\n",
       "      <td>31</td>\n",
       "      <td>Male</td>\n",
       "      <td>Tax</td>\n",
       "      <td>Pass</td>\n",
       "      <td>Non-Cadre</td>\n",
       "    </tr>\n",
       "    <tr>\n",
       "      <th>2</th>\n",
       "      <td>24</td>\n",
       "      <td>Female</td>\n",
       "      <td>Admin</td>\n",
       "      <td>Master's</td>\n",
       "      <td>Cadre</td>\n",
       "    </tr>\n",
       "    <tr>\n",
       "      <th>3</th>\n",
       "      <td>34</td>\n",
       "      <td>Male</td>\n",
       "      <td>Tax</td>\n",
       "      <td>Pass</td>\n",
       "      <td>Cadre</td>\n",
       "    </tr>\n",
       "    <tr>\n",
       "      <th>4</th>\n",
       "      <td>27</td>\n",
       "      <td>Male</td>\n",
       "      <td>Admin</td>\n",
       "      <td>Bachelor's</td>\n",
       "      <td>Cadre</td>\n",
       "    </tr>\n",
       "    <tr>\n",
       "      <th>5</th>\n",
       "      <td>28</td>\n",
       "      <td>Female</td>\n",
       "      <td>Admin</td>\n",
       "      <td>Bachelor's</td>\n",
       "      <td>Cadre</td>\n",
       "    </tr>\n",
       "    <tr>\n",
       "      <th>6</th>\n",
       "      <td>25</td>\n",
       "      <td>Female</td>\n",
       "      <td>Tax</td>\n",
       "      <td>Master's</td>\n",
       "      <td>Cadre</td>\n",
       "    </tr>\n",
       "    <tr>\n",
       "      <th>7</th>\n",
       "      <td>30</td>\n",
       "      <td>Male</td>\n",
       "      <td>Police</td>\n",
       "      <td>Pass</td>\n",
       "      <td>Non-Cadre</td>\n",
       "    </tr>\n",
       "    <tr>\n",
       "      <th>8</th>\n",
       "      <td>29</td>\n",
       "      <td>Female</td>\n",
       "      <td>Admin</td>\n",
       "      <td>Pass</td>\n",
       "      <td>Non-Cadre</td>\n",
       "    </tr>\n",
       "    <tr>\n",
       "      <th>9</th>\n",
       "      <td>33</td>\n",
       "      <td>Male</td>\n",
       "      <td>Tax</td>\n",
       "      <td>Bachelor's</td>\n",
       "      <td>Non-Cadre</td>\n",
       "    </tr>\n",
       "  </tbody>\n",
       "</table>\n",
       "</div>"
      ],
      "text/plain": [
       "   Age  Gender    Dept   Education       Type\n",
       "0   26    Male  Police  Bachelor's      Cadre\n",
       "1   31    Male     Tax        Pass  Non-Cadre\n",
       "2   24  Female   Admin    Master's      Cadre\n",
       "3   34    Male     Tax        Pass      Cadre\n",
       "4   27    Male   Admin  Bachelor's      Cadre\n",
       "5   28  Female   Admin  Bachelor's      Cadre\n",
       "6   25  Female     Tax    Master's      Cadre\n",
       "7   30    Male  Police        Pass  Non-Cadre\n",
       "8   29  Female   Admin        Pass  Non-Cadre\n",
       "9   33    Male     Tax  Bachelor's  Non-Cadre"
      ]
     },
     "execution_count": 20,
     "metadata": {},
     "output_type": "execute_result"
    }
   ],
   "source": [
    "df=pd.read_csv(\"sample_data.csv\")\n",
    "df"
   ]
  },
  {
   "cell_type": "code",
   "execution_count": 21,
   "metadata": {},
   "outputs": [
    {
     "data": {
      "text/html": [
       "<div>\n",
       "<style scoped>\n",
       "    .dataframe tbody tr th:only-of-type {\n",
       "        vertical-align: middle;\n",
       "    }\n",
       "\n",
       "    .dataframe tbody tr th {\n",
       "        vertical-align: top;\n",
       "    }\n",
       "\n",
       "    .dataframe thead th {\n",
       "        text-align: right;\n",
       "    }\n",
       "</style>\n",
       "<table border=\"1\" class=\"dataframe\">\n",
       "  <thead>\n",
       "    <tr style=\"text-align: right;\">\n",
       "      <th></th>\n",
       "      <th>Age</th>\n",
       "      <th>Education</th>\n",
       "      <th>Type</th>\n",
       "      <th>Gender_Female</th>\n",
       "      <th>Dept_Tax</th>\n",
       "      <th>Dept_Admin</th>\n",
       "    </tr>\n",
       "  </thead>\n",
       "  <tbody>\n",
       "    <tr>\n",
       "      <th>0</th>\n",
       "      <td>26</td>\n",
       "      <td>Bachelor's</td>\n",
       "      <td>Cadre</td>\n",
       "      <td>0</td>\n",
       "      <td>0</td>\n",
       "      <td>0</td>\n",
       "    </tr>\n",
       "    <tr>\n",
       "      <th>1</th>\n",
       "      <td>31</td>\n",
       "      <td>Pass</td>\n",
       "      <td>Non-Cadre</td>\n",
       "      <td>0</td>\n",
       "      <td>1</td>\n",
       "      <td>0</td>\n",
       "    </tr>\n",
       "    <tr>\n",
       "      <th>2</th>\n",
       "      <td>24</td>\n",
       "      <td>Master's</td>\n",
       "      <td>Cadre</td>\n",
       "      <td>1</td>\n",
       "      <td>0</td>\n",
       "      <td>1</td>\n",
       "    </tr>\n",
       "    <tr>\n",
       "      <th>3</th>\n",
       "      <td>34</td>\n",
       "      <td>Pass</td>\n",
       "      <td>Cadre</td>\n",
       "      <td>0</td>\n",
       "      <td>1</td>\n",
       "      <td>0</td>\n",
       "    </tr>\n",
       "    <tr>\n",
       "      <th>4</th>\n",
       "      <td>27</td>\n",
       "      <td>Bachelor's</td>\n",
       "      <td>Cadre</td>\n",
       "      <td>0</td>\n",
       "      <td>0</td>\n",
       "      <td>1</td>\n",
       "    </tr>\n",
       "    <tr>\n",
       "      <th>5</th>\n",
       "      <td>28</td>\n",
       "      <td>Bachelor's</td>\n",
       "      <td>Cadre</td>\n",
       "      <td>1</td>\n",
       "      <td>0</td>\n",
       "      <td>1</td>\n",
       "    </tr>\n",
       "    <tr>\n",
       "      <th>6</th>\n",
       "      <td>25</td>\n",
       "      <td>Master's</td>\n",
       "      <td>Cadre</td>\n",
       "      <td>1</td>\n",
       "      <td>1</td>\n",
       "      <td>0</td>\n",
       "    </tr>\n",
       "    <tr>\n",
       "      <th>7</th>\n",
       "      <td>30</td>\n",
       "      <td>Pass</td>\n",
       "      <td>Non-Cadre</td>\n",
       "      <td>0</td>\n",
       "      <td>0</td>\n",
       "      <td>0</td>\n",
       "    </tr>\n",
       "    <tr>\n",
       "      <th>8</th>\n",
       "      <td>29</td>\n",
       "      <td>Pass</td>\n",
       "      <td>Non-Cadre</td>\n",
       "      <td>1</td>\n",
       "      <td>0</td>\n",
       "      <td>1</td>\n",
       "    </tr>\n",
       "    <tr>\n",
       "      <th>9</th>\n",
       "      <td>33</td>\n",
       "      <td>Bachelor's</td>\n",
       "      <td>Non-Cadre</td>\n",
       "      <td>0</td>\n",
       "      <td>1</td>\n",
       "      <td>0</td>\n",
       "    </tr>\n",
       "  </tbody>\n",
       "</table>\n",
       "</div>"
      ],
      "text/plain": [
       "   Age   Education       Type  Gender_Female  Dept_Tax  Dept_Admin\n",
       "0   26  Bachelor's      Cadre              0         0           0\n",
       "1   31        Pass  Non-Cadre              0         1           0\n",
       "2   24    Master's      Cadre              1         0           1\n",
       "3   34        Pass      Cadre              0         1           0\n",
       "4   27  Bachelor's      Cadre              0         0           1\n",
       "5   28  Bachelor's      Cadre              1         0           1\n",
       "6   25    Master's      Cadre              1         1           0\n",
       "7   30        Pass  Non-Cadre              0         0           0\n",
       "8   29        Pass  Non-Cadre              1         0           1\n",
       "9   33  Bachelor's  Non-Cadre              0         1           0"
      ]
     },
     "execution_count": 21,
     "metadata": {},
     "output_type": "execute_result"
    }
   ],
   "source": [
    "df=onehotencoder.transform(df,['Gender','Dept'],drop_first=True)\n",
    "df"
   ]
  },
  {
   "cell_type": "code",
   "execution_count": 22,
   "metadata": {},
   "outputs": [
    {
     "data": {
      "text/plain": [
       "{'Gender': array(['Male', 'Female'], dtype=object),\n",
       " 'Dept': array(['Police', 'Tax', 'Admin'], dtype=object)}"
      ]
     },
     "execution_count": 22,
     "metadata": {},
     "output_type": "execute_result"
    }
   ],
   "source": [
    "onehotencoder.feature_names"
   ]
  },
  {
   "cell_type": "markdown",
   "metadata": {},
   "source": [
    "##### 3.2 Ordinal Encoder"
   ]
  },
  {
   "cell_type": "code",
   "execution_count": 23,
   "metadata": {},
   "outputs": [],
   "source": [
    "from my_lib.Encoders import OrdinalEncoder\n",
    "ordinalencoder = OrdinalEncoder()"
   ]
  },
  {
   "cell_type": "markdown",
   "metadata": {},
   "source": [
    "Here, the order of 'Education' matters, so a parameter named category is passed where the order of variables is mentioned"
   ]
  },
  {
   "cell_type": "code",
   "execution_count": 24,
   "metadata": {},
   "outputs": [
    {
     "data": {
      "text/html": [
       "<div>\n",
       "<style scoped>\n",
       "    .dataframe tbody tr th:only-of-type {\n",
       "        vertical-align: middle;\n",
       "    }\n",
       "\n",
       "    .dataframe tbody tr th {\n",
       "        vertical-align: top;\n",
       "    }\n",
       "\n",
       "    .dataframe thead th {\n",
       "        text-align: right;\n",
       "    }\n",
       "</style>\n",
       "<table border=\"1\" class=\"dataframe\">\n",
       "  <thead>\n",
       "    <tr style=\"text-align: right;\">\n",
       "      <th></th>\n",
       "      <th>Age</th>\n",
       "      <th>Education</th>\n",
       "      <th>Type</th>\n",
       "      <th>Gender_Female</th>\n",
       "      <th>Dept_Tax</th>\n",
       "      <th>Dept_Admin</th>\n",
       "    </tr>\n",
       "  </thead>\n",
       "  <tbody>\n",
       "    <tr>\n",
       "      <th>0</th>\n",
       "      <td>26</td>\n",
       "      <td>1</td>\n",
       "      <td>0</td>\n",
       "      <td>0</td>\n",
       "      <td>0</td>\n",
       "      <td>0</td>\n",
       "    </tr>\n",
       "    <tr>\n",
       "      <th>1</th>\n",
       "      <td>31</td>\n",
       "      <td>0</td>\n",
       "      <td>1</td>\n",
       "      <td>0</td>\n",
       "      <td>1</td>\n",
       "      <td>0</td>\n",
       "    </tr>\n",
       "    <tr>\n",
       "      <th>2</th>\n",
       "      <td>24</td>\n",
       "      <td>2</td>\n",
       "      <td>0</td>\n",
       "      <td>1</td>\n",
       "      <td>0</td>\n",
       "      <td>1</td>\n",
       "    </tr>\n",
       "    <tr>\n",
       "      <th>3</th>\n",
       "      <td>34</td>\n",
       "      <td>0</td>\n",
       "      <td>0</td>\n",
       "      <td>0</td>\n",
       "      <td>1</td>\n",
       "      <td>0</td>\n",
       "    </tr>\n",
       "    <tr>\n",
       "      <th>4</th>\n",
       "      <td>27</td>\n",
       "      <td>1</td>\n",
       "      <td>0</td>\n",
       "      <td>0</td>\n",
       "      <td>0</td>\n",
       "      <td>1</td>\n",
       "    </tr>\n",
       "    <tr>\n",
       "      <th>5</th>\n",
       "      <td>28</td>\n",
       "      <td>1</td>\n",
       "      <td>0</td>\n",
       "      <td>1</td>\n",
       "      <td>0</td>\n",
       "      <td>1</td>\n",
       "    </tr>\n",
       "    <tr>\n",
       "      <th>6</th>\n",
       "      <td>25</td>\n",
       "      <td>2</td>\n",
       "      <td>0</td>\n",
       "      <td>1</td>\n",
       "      <td>1</td>\n",
       "      <td>0</td>\n",
       "    </tr>\n",
       "    <tr>\n",
       "      <th>7</th>\n",
       "      <td>30</td>\n",
       "      <td>0</td>\n",
       "      <td>1</td>\n",
       "      <td>0</td>\n",
       "      <td>0</td>\n",
       "      <td>0</td>\n",
       "    </tr>\n",
       "    <tr>\n",
       "      <th>8</th>\n",
       "      <td>29</td>\n",
       "      <td>0</td>\n",
       "      <td>1</td>\n",
       "      <td>1</td>\n",
       "      <td>0</td>\n",
       "      <td>1</td>\n",
       "    </tr>\n",
       "    <tr>\n",
       "      <th>9</th>\n",
       "      <td>33</td>\n",
       "      <td>1</td>\n",
       "      <td>1</td>\n",
       "      <td>0</td>\n",
       "      <td>1</td>\n",
       "      <td>0</td>\n",
       "    </tr>\n",
       "  </tbody>\n",
       "</table>\n",
       "</div>"
      ],
      "text/plain": [
       "   Age  Education  Type  Gender_Female  Dept_Tax  Dept_Admin\n",
       "0   26          1     0              0         0           0\n",
       "1   31          0     1              0         1           0\n",
       "2   24          2     0              1         0           1\n",
       "3   34          0     0              0         1           0\n",
       "4   27          1     0              0         0           1\n",
       "5   28          1     0              1         0           1\n",
       "6   25          2     0              1         1           0\n",
       "7   30          0     1              0         0           0\n",
       "8   29          0     1              1         0           1\n",
       "9   33          1     1              0         1           0"
      ]
     },
     "execution_count": 24,
     "metadata": {},
     "output_type": "execute_result"
    }
   ],
   "source": [
    "features=['Education','Type']\n",
    "categories=[[\"Pass\",\"Bachelor's\",\"Master's\"],None]\n",
    "df=ordinalencoder.transform(df,['Education','Type'],category=categories)\n",
    "df"
   ]
  },
  {
   "cell_type": "code",
   "execution_count": 25,
   "metadata": {},
   "outputs": [
    {
     "data": {
      "text/plain": [
       "[{'Pass': 0, \"Bachelor's\": 1, \"Master's\": 2}, {'Cadre': 0, 'Non-Cadre': 1}]"
      ]
     },
     "execution_count": 25,
     "metadata": {},
     "output_type": "execute_result"
    }
   ],
   "source": [
    "ordinalencoder.feature_maps"
   ]
  },
  {
   "cell_type": "code",
   "execution_count": 26,
   "metadata": {},
   "outputs": [],
   "source": [
    "del df,features,categories,onehotencoder\n",
    "gc.collect();"
   ]
  },
  {
   "cell_type": "markdown",
   "metadata": {},
   "source": [
    " ### 4) Feature Scaling"
   ]
  },
  {
   "cell_type": "code",
   "execution_count": 27,
   "metadata": {},
   "outputs": [],
   "source": [
    "from my_lib.FeatureScaling import StandardScaler, MinMaxScaler, MaxAbsScaler, RobustScaler, Normalizer"
   ]
  },
  {
   "cell_type": "code",
   "execution_count": 28,
   "metadata": {},
   "outputs": [
    {
     "data": {
      "text/html": [
       "<div>\n",
       "<style scoped>\n",
       "    .dataframe tbody tr th:only-of-type {\n",
       "        vertical-align: middle;\n",
       "    }\n",
       "\n",
       "    .dataframe tbody tr th {\n",
       "        vertical-align: top;\n",
       "    }\n",
       "\n",
       "    .dataframe thead th {\n",
       "        text-align: right;\n",
       "    }\n",
       "</style>\n",
       "<table border=\"1\" class=\"dataframe\">\n",
       "  <thead>\n",
       "    <tr style=\"text-align: right;\">\n",
       "      <th></th>\n",
       "      <th>A</th>\n",
       "      <th>B</th>\n",
       "      <th>C</th>\n",
       "      <th>D</th>\n",
       "    </tr>\n",
       "  </thead>\n",
       "  <tbody>\n",
       "    <tr>\n",
       "      <th>0</th>\n",
       "      <td>1.404543</td>\n",
       "      <td>0.606821</td>\n",
       "      <td>0.414992</td>\n",
       "      <td>24</td>\n",
       "    </tr>\n",
       "    <tr>\n",
       "      <th>1</th>\n",
       "      <td>-1.605543</td>\n",
       "      <td>0.310954</td>\n",
       "      <td>6.370947</td>\n",
       "      <td>37</td>\n",
       "    </tr>\n",
       "    <tr>\n",
       "      <th>2</th>\n",
       "      <td>0.503816</td>\n",
       "      <td>0.248212</td>\n",
       "      <td>5.972924</td>\n",
       "      <td>13</td>\n",
       "    </tr>\n",
       "    <tr>\n",
       "      <th>3</th>\n",
       "      <td>-2.153879</td>\n",
       "      <td>0.141009</td>\n",
       "      <td>6.533835</td>\n",
       "      <td>7</td>\n",
       "    </tr>\n",
       "    <tr>\n",
       "      <th>4</th>\n",
       "      <td>0.707212</td>\n",
       "      <td>1.945817</td>\n",
       "      <td>1.923099</td>\n",
       "      <td>90</td>\n",
       "    </tr>\n",
       "    <tr>\n",
       "      <th>...</th>\n",
       "      <td>...</td>\n",
       "      <td>...</td>\n",
       "      <td>...</td>\n",
       "      <td>...</td>\n",
       "    </tr>\n",
       "    <tr>\n",
       "      <th>995</th>\n",
       "      <td>-0.275510</td>\n",
       "      <td>0.332402</td>\n",
       "      <td>1.715964</td>\n",
       "      <td>27</td>\n",
       "    </tr>\n",
       "    <tr>\n",
       "      <th>996</th>\n",
       "      <td>0.914022</td>\n",
       "      <td>0.542286</td>\n",
       "      <td>1.674597</td>\n",
       "      <td>4</td>\n",
       "    </tr>\n",
       "    <tr>\n",
       "      <th>997</th>\n",
       "      <td>-0.948445</td>\n",
       "      <td>0.346041</td>\n",
       "      <td>4.625935</td>\n",
       "      <td>20</td>\n",
       "    </tr>\n",
       "    <tr>\n",
       "      <th>998</th>\n",
       "      <td>1.411877</td>\n",
       "      <td>0.403775</td>\n",
       "      <td>0.332680</td>\n",
       "      <td>17</td>\n",
       "    </tr>\n",
       "    <tr>\n",
       "      <th>999</th>\n",
       "      <td>-0.550911</td>\n",
       "      <td>0.347823</td>\n",
       "      <td>1.218881</td>\n",
       "      <td>46</td>\n",
       "    </tr>\n",
       "  </tbody>\n",
       "</table>\n",
       "<p>1000 rows × 4 columns</p>\n",
       "</div>"
      ],
      "text/plain": [
       "            A         B         C   D\n",
       "0    1.404543  0.606821  0.414992  24\n",
       "1   -1.605543  0.310954  6.370947  37\n",
       "2    0.503816  0.248212  5.972924  13\n",
       "3   -2.153879  0.141009  6.533835   7\n",
       "4    0.707212  1.945817  1.923099  90\n",
       "..        ...       ...       ...  ..\n",
       "995 -0.275510  0.332402  1.715964  27\n",
       "996  0.914022  0.542286  1.674597   4\n",
       "997 -0.948445  0.346041  4.625935  20\n",
       "998  1.411877  0.403775  0.332680  17\n",
       "999 -0.550911  0.347823  1.218881  46\n",
       "\n",
       "[1000 rows x 4 columns]"
      ]
     },
     "execution_count": 28,
     "metadata": {},
     "output_type": "execute_result"
    }
   ],
   "source": [
    "df = pd.DataFrame({\n",
    "    'A': np.random.normal(0, 1, 1000),\n",
    "    'B': np.random.exponential(1, 1000),\n",
    "    'C': np.random.uniform(0, 10, 1000),\n",
    "    'D': np.random.randint(0, 100, 1000)\n",
    "})\n",
    "df"
   ]
  },
  {
   "cell_type": "code",
   "execution_count": 29,
   "metadata": {},
   "outputs": [],
   "source": [
    "standard_scaler = StandardScaler()\n",
    "minmax_scaler = MinMaxScaler()\n",
    "maxabs_scaler = MaxAbsScaler()\n",
    "robust_scaler = RobustScaler()\n",
    "normalizer = Normalizer()"
   ]
  },
  {
   "cell_type": "code",
   "execution_count": 30,
   "metadata": {},
   "outputs": [
    {
     "data": {
      "text/html": [
       "<div>\n",
       "<style scoped>\n",
       "    .dataframe tbody tr th:only-of-type {\n",
       "        vertical-align: middle;\n",
       "    }\n",
       "\n",
       "    .dataframe tbody tr th {\n",
       "        vertical-align: top;\n",
       "    }\n",
       "\n",
       "    .dataframe thead th {\n",
       "        text-align: right;\n",
       "    }\n",
       "</style>\n",
       "<table border=\"1\" class=\"dataframe\">\n",
       "  <thead>\n",
       "    <tr style=\"text-align: right;\">\n",
       "      <th></th>\n",
       "      <th>A_scaled</th>\n",
       "      <th>B_scaled</th>\n",
       "      <th>C_scaled</th>\n",
       "      <th>D_scaled</th>\n",
       "    </tr>\n",
       "  </thead>\n",
       "  <tbody>\n",
       "    <tr>\n",
       "      <th>0</th>\n",
       "      <td>1.356495</td>\n",
       "      <td>0.078828</td>\n",
       "      <td>0.041598</td>\n",
       "      <td>-0.54</td>\n",
       "    </tr>\n",
       "    <tr>\n",
       "      <th>1</th>\n",
       "      <td>-1.576543</td>\n",
       "      <td>0.040366</td>\n",
       "      <td>0.638613</td>\n",
       "      <td>-0.28</td>\n",
       "    </tr>\n",
       "    <tr>\n",
       "      <th>2</th>\n",
       "      <td>0.478823</td>\n",
       "      <td>0.032210</td>\n",
       "      <td>0.598716</td>\n",
       "      <td>-0.76</td>\n",
       "    </tr>\n",
       "    <tr>\n",
       "      <th>3</th>\n",
       "      <td>-2.110843</td>\n",
       "      <td>0.018273</td>\n",
       "      <td>0.654940</td>\n",
       "      <td>-0.88</td>\n",
       "    </tr>\n",
       "    <tr>\n",
       "      <th>4</th>\n",
       "      <td>0.677012</td>\n",
       "      <td>0.252896</td>\n",
       "      <td>0.192768</td>\n",
       "      <td>0.78</td>\n",
       "    </tr>\n",
       "    <tr>\n",
       "      <th>...</th>\n",
       "      <td>...</td>\n",
       "      <td>...</td>\n",
       "      <td>...</td>\n",
       "      <td>...</td>\n",
       "    </tr>\n",
       "    <tr>\n",
       "      <th>995</th>\n",
       "      <td>-0.280555</td>\n",
       "      <td>0.043154</td>\n",
       "      <td>0.172005</td>\n",
       "      <td>-0.48</td>\n",
       "    </tr>\n",
       "    <tr>\n",
       "      <th>996</th>\n",
       "      <td>0.878529</td>\n",
       "      <td>0.070439</td>\n",
       "      <td>0.167859</td>\n",
       "      <td>-0.94</td>\n",
       "    </tr>\n",
       "    <tr>\n",
       "      <th>997</th>\n",
       "      <td>-0.936264</td>\n",
       "      <td>0.044927</td>\n",
       "      <td>0.463696</td>\n",
       "      <td>-0.62</td>\n",
       "    </tr>\n",
       "    <tr>\n",
       "      <th>998</th>\n",
       "      <td>1.363640</td>\n",
       "      <td>0.052433</td>\n",
       "      <td>0.033347</td>\n",
       "      <td>-0.68</td>\n",
       "    </tr>\n",
       "    <tr>\n",
       "      <th>999</th>\n",
       "      <td>-0.548906</td>\n",
       "      <td>0.045159</td>\n",
       "      <td>0.122179</td>\n",
       "      <td>-0.10</td>\n",
       "    </tr>\n",
       "  </tbody>\n",
       "</table>\n",
       "<p>1000 rows × 4 columns</p>\n",
       "</div>"
      ],
      "text/plain": [
       "     A_scaled  B_scaled  C_scaled  D_scaled\n",
       "0    1.356495  0.078828  0.041598     -0.54\n",
       "1   -1.576543  0.040366  0.638613     -0.28\n",
       "2    0.478823  0.032210  0.598716     -0.76\n",
       "3   -2.110843  0.018273  0.654940     -0.88\n",
       "4    0.677012  0.252896  0.192768      0.78\n",
       "..        ...       ...       ...       ...\n",
       "995 -0.280555  0.043154  0.172005     -0.48\n",
       "996  0.878529  0.070439  0.167859     -0.94\n",
       "997 -0.936264  0.044927  0.463696     -0.62\n",
       "998  1.363640  0.052433  0.033347     -0.68\n",
       "999 -0.548906  0.045159  0.122179     -0.10\n",
       "\n",
       "[1000 rows x 4 columns]"
      ]
     },
     "execution_count": 30,
     "metadata": {},
     "output_type": "execute_result"
    }
   ],
   "source": [
    "scaled_df=pd.DataFrame(index=df.index)\n",
    "scaled_df['A_scaled'] = standard_scaler.fit_transform(df[['A']])\n",
    "scaled_df['B_scaled'] = minmax_scaler.fit_transform(df[['B']])\n",
    "scaled_df['C_scaled'] = maxabs_scaler.fit_transform(df[['C']])\n",
    "scaled_df['D_scaled'] = robust_scaler.fit_transform(df[['D']])\n",
    "scaled_df"
   ]
  },
  {
   "cell_type": "code",
   "execution_count": 31,
   "metadata": {},
   "outputs": [
    {
     "data": {
      "text/html": [
       "<div>\n",
       "<style scoped>\n",
       "    .dataframe tbody tr th:only-of-type {\n",
       "        vertical-align: middle;\n",
       "    }\n",
       "\n",
       "    .dataframe tbody tr th {\n",
       "        vertical-align: top;\n",
       "    }\n",
       "\n",
       "    .dataframe thead th {\n",
       "        text-align: right;\n",
       "    }\n",
       "</style>\n",
       "<table border=\"1\" class=\"dataframe\">\n",
       "  <thead>\n",
       "    <tr style=\"text-align: right;\">\n",
       "      <th></th>\n",
       "      <th>A_normalized</th>\n",
       "      <th>B_normalized</th>\n",
       "      <th>C_normalized</th>\n",
       "      <th>D_normalized</th>\n",
       "    </tr>\n",
       "  </thead>\n",
       "  <tbody>\n",
       "    <tr>\n",
       "      <th>0</th>\n",
       "      <td>0.058395</td>\n",
       "      <td>0.025229</td>\n",
       "      <td>0.017254</td>\n",
       "      <td>0.997826</td>\n",
       "    </tr>\n",
       "    <tr>\n",
       "      <th>1</th>\n",
       "      <td>-0.042723</td>\n",
       "      <td>0.008274</td>\n",
       "      <td>0.169530</td>\n",
       "      <td>0.984564</td>\n",
       "    </tr>\n",
       "    <tr>\n",
       "      <th>2</th>\n",
       "      <td>0.035189</td>\n",
       "      <td>0.017336</td>\n",
       "      <td>0.417176</td>\n",
       "      <td>0.907979</td>\n",
       "    </tr>\n",
       "    <tr>\n",
       "      <th>3</th>\n",
       "      <td>-0.219430</td>\n",
       "      <td>0.014365</td>\n",
       "      <td>0.665644</td>\n",
       "      <td>0.713135</td>\n",
       "    </tr>\n",
       "    <tr>\n",
       "      <th>4</th>\n",
       "      <td>0.007854</td>\n",
       "      <td>0.021610</td>\n",
       "      <td>0.021357</td>\n",
       "      <td>0.999507</td>\n",
       "    </tr>\n",
       "    <tr>\n",
       "      <th>...</th>\n",
       "      <td>...</td>\n",
       "      <td>...</td>\n",
       "      <td>...</td>\n",
       "      <td>...</td>\n",
       "    </tr>\n",
       "    <tr>\n",
       "      <th>995</th>\n",
       "      <td>-0.010182</td>\n",
       "      <td>0.012285</td>\n",
       "      <td>0.063418</td>\n",
       "      <td>0.997859</td>\n",
       "    </tr>\n",
       "    <tr>\n",
       "      <th>996</th>\n",
       "      <td>0.204721</td>\n",
       "      <td>0.121460</td>\n",
       "      <td>0.375073</td>\n",
       "      <td>0.895911</td>\n",
       "    </tr>\n",
       "    <tr>\n",
       "      <th>997</th>\n",
       "      <td>-0.046147</td>\n",
       "      <td>0.016837</td>\n",
       "      <td>0.225075</td>\n",
       "      <td>0.973102</td>\n",
       "    </tr>\n",
       "    <tr>\n",
       "      <th>998</th>\n",
       "      <td>0.082728</td>\n",
       "      <td>0.023659</td>\n",
       "      <td>0.019493</td>\n",
       "      <td>0.996101</td>\n",
       "    </tr>\n",
       "    <tr>\n",
       "      <th>999</th>\n",
       "      <td>-0.011971</td>\n",
       "      <td>0.007558</td>\n",
       "      <td>0.026485</td>\n",
       "      <td>0.999549</td>\n",
       "    </tr>\n",
       "  </tbody>\n",
       "</table>\n",
       "<p>1000 rows × 4 columns</p>\n",
       "</div>"
      ],
      "text/plain": [
       "     A_normalized  B_normalized  C_normalized  D_normalized\n",
       "0        0.058395      0.025229      0.017254      0.997826\n",
       "1       -0.042723      0.008274      0.169530      0.984564\n",
       "2        0.035189      0.017336      0.417176      0.907979\n",
       "3       -0.219430      0.014365      0.665644      0.713135\n",
       "4        0.007854      0.021610      0.021357      0.999507\n",
       "..            ...           ...           ...           ...\n",
       "995     -0.010182      0.012285      0.063418      0.997859\n",
       "996      0.204721      0.121460      0.375073      0.895911\n",
       "997     -0.046147      0.016837      0.225075      0.973102\n",
       "998      0.082728      0.023659      0.019493      0.996101\n",
       "999     -0.011971      0.007558      0.026485      0.999549\n",
       "\n",
       "[1000 rows x 4 columns]"
      ]
     },
     "execution_count": 31,
     "metadata": {},
     "output_type": "execute_result"
    }
   ],
   "source": [
    "norm_rows=normalizer.transform(df)\n",
    "normalized_df = pd.DataFrame(norm_rows, columns=df.columns+'_normalized')\n",
    "normalized_df"
   ]
  },
  {
   "cell_type": "code",
   "execution_count": 32,
   "metadata": {},
   "outputs": [
    {
     "data": {
      "image/png": "[encoded data removed]",
      "text/plain": [
       "<Figure size 1200x900 with 12 Axes>"
      ]
     },
     "metadata": {},
     "output_type": "display_data"
    }
   ],
   "source": [
    "plt.subplots(figsize=(12, 9))\n",
    "cols=df.columns.tolist() + scaled_df.columns.tolist() + normalized_df.columns.tolist()\n",
    "for i, col in enumerate(cols):\n",
    "    plt.subplot(3, 4, i+1)\n",
    "    if i<=3:\n",
    "        sns.histplot(df[col])\n",
    "    elif i<=7:\n",
    "        sns.histplot(scaled_df[col])\n",
    "    else:\n",
    "        sns.histplot(normalized_df[col])\n",
    "    plt.xlabel('')  # Remove x-axis label\n",
    "    plt.ylabel('')  # Remove y-axis label\n",
    "    plt.title(col)\n",
    "plt.suptitle('Distribution for Various Feature Scaling', fontsize=16)\n",
    "plt.tight_layout()"
   ]
  },
  {
   "cell_type": "code",
   "execution_count": 33,
   "metadata": {},
   "outputs": [],
   "source": [
    "del df,scaled_df,normalized_df,standard_scaler,minmax_scaler,maxabs_scaler,robust_scaler,normalizer\n",
    "gc.collect();"
   ]
  },
  {
   "cell_type": "markdown",
   "metadata": {},
   "source": [
    " ### 5) Decision Tree Classifier"
   ]
  },
  {
   "cell_type": "code",
   "execution_count": 34,
   "metadata": {},
   "outputs": [],
   "source": [
    "from pprint import pprint\n",
    "from my_lib.DecisionTree import Decision_Tree_Classifier\n",
    "classifier=Decision_Tree_Classifier()"
   ]
  },
  {
   "cell_type": "code",
   "execution_count": 35,
   "metadata": {},
   "outputs": [
    {
     "data": {
      "text/html": [
       "<div>\n",
       "<style scoped>\n",
       "    .dataframe tbody tr th:only-of-type {\n",
       "        vertical-align: middle;\n",
       "    }\n",
       "\n",
       "    .dataframe tbody tr th {\n",
       "        vertical-align: top;\n",
       "    }\n",
       "\n",
       "    .dataframe thead th {\n",
       "        text-align: right;\n",
       "    }\n",
       "</style>\n",
       "<table border=\"1\" class=\"dataframe\">\n",
       "  <thead>\n",
       "    <tr style=\"text-align: right;\">\n",
       "      <th></th>\n",
       "      <th>Cap Color</th>\n",
       "      <th>Stalk Shape</th>\n",
       "      <th>Solitary</th>\n",
       "      <th>Edible</th>\n",
       "    </tr>\n",
       "  </thead>\n",
       "  <tbody>\n",
       "    <tr>\n",
       "      <th>0</th>\n",
       "      <td>Brown</td>\n",
       "      <td>Tapering</td>\n",
       "      <td>Yes</td>\n",
       "      <td>1</td>\n",
       "    </tr>\n",
       "    <tr>\n",
       "      <th>1</th>\n",
       "      <td>Brown</td>\n",
       "      <td>Enlarging</td>\n",
       "      <td>Yes</td>\n",
       "      <td>1</td>\n",
       "    </tr>\n",
       "    <tr>\n",
       "      <th>2</th>\n",
       "      <td>Brown</td>\n",
       "      <td>Enlarging</td>\n",
       "      <td>No</td>\n",
       "      <td>0</td>\n",
       "    </tr>\n",
       "    <tr>\n",
       "      <th>3</th>\n",
       "      <td>Brown</td>\n",
       "      <td>Enlarging</td>\n",
       "      <td>No</td>\n",
       "      <td>0</td>\n",
       "    </tr>\n",
       "    <tr>\n",
       "      <th>4</th>\n",
       "      <td>Brown</td>\n",
       "      <td>Tapering</td>\n",
       "      <td>Yes</td>\n",
       "      <td>1</td>\n",
       "    </tr>\n",
       "    <tr>\n",
       "      <th>5</th>\n",
       "      <td>Red</td>\n",
       "      <td>Tapering</td>\n",
       "      <td>Yes</td>\n",
       "      <td>0</td>\n",
       "    </tr>\n",
       "    <tr>\n",
       "      <th>6</th>\n",
       "      <td>Red</td>\n",
       "      <td>Enlarging</td>\n",
       "      <td>No</td>\n",
       "      <td>0</td>\n",
       "    </tr>\n",
       "    <tr>\n",
       "      <th>7</th>\n",
       "      <td>Brown</td>\n",
       "      <td>Enlarging</td>\n",
       "      <td>Yes</td>\n",
       "      <td>1</td>\n",
       "    </tr>\n",
       "    <tr>\n",
       "      <th>8</th>\n",
       "      <td>Red</td>\n",
       "      <td>Tapering</td>\n",
       "      <td>No</td>\n",
       "      <td>1</td>\n",
       "    </tr>\n",
       "    <tr>\n",
       "      <th>9</th>\n",
       "      <td>Brown</td>\n",
       "      <td>Enlarging</td>\n",
       "      <td>No</td>\n",
       "      <td>0</td>\n",
       "    </tr>\n",
       "  </tbody>\n",
       "</table>\n",
       "</div>"
      ],
      "text/plain": [
       "  Cap Color Stalk Shape Solitary  Edible\n",
       "0     Brown    Tapering      Yes       1\n",
       "1     Brown   Enlarging      Yes       1\n",
       "2     Brown   Enlarging       No       0\n",
       "3     Brown   Enlarging       No       0\n",
       "4     Brown    Tapering      Yes       1\n",
       "5       Red    Tapering      Yes       0\n",
       "6       Red   Enlarging       No       0\n",
       "7     Brown   Enlarging      Yes       1\n",
       "8       Red    Tapering       No       1\n",
       "9     Brown   Enlarging       No       0"
      ]
     },
     "execution_count": 35,
     "metadata": {},
     "output_type": "execute_result"
    }
   ],
   "source": [
    "df=pd.read_csv('mushroom_data.csv')\n",
    "df"
   ]
  },
  {
   "cell_type": "code",
   "execution_count": 36,
   "metadata": {},
   "outputs": [],
   "source": [
    "y=np.array(df.Edible)\n",
    "x=df.drop(\"Edible\", axis=1)"
   ]
  },
  {
   "cell_type": "code",
   "execution_count": 37,
   "metadata": {},
   "outputs": [],
   "source": [
    "features=['Cap Color','Stalk Shape','Solitary']\n",
    "x=ordinalencoder.transform(x,features)\n",
    "x=np.array(x)"
   ]
  },
  {
   "cell_type": "code",
   "execution_count": 38,
   "metadata": {},
   "outputs": [
    {
     "name": "stdout",
     "output_type": "stream",
     "text": [
      "{2: {'left': {0: {'left': 0,\n",
      "                  'right': 1}},\n",
      "     'right': {1: {'left': 1,\n",
      "                   'right': 0}}}}\n"
     ]
    }
   ],
   "source": [
    "tree=classifier.build_tree(x,y)\n",
    "pprint(tree,width=1)"
   ]
  },
  {
   "cell_type": "code",
   "execution_count": 39,
   "metadata": {},
   "outputs": [],
   "source": [
    "del df,x,y,features,classifier\n",
    "gc.collect();"
   ]
  },
  {
   "cell_type": "markdown",
   "metadata": {},
   "source": [
    " ### 6) K-Means Clustering"
   ]
  },
  {
   "cell_type": "code",
   "execution_count": null,
   "metadata": {},
   "outputs": [],
   "source": [
    "from my_lib.K_Means_Clustering import Kmeans\n",
    "clusterer=Kmeans()"
   ]
  },
  {
   "cell_type": "code",
   "execution_count": 2,
   "metadata": {},
   "outputs": [],
   "source": [
    "df=pd.read_csv('kmeans_test_dataset_4_clusters.csv')\n",
    "X=df.drop('Cluster',axis=1).to_numpy()"
   ]
  },
  {
   "cell_type": "code",
   "execution_count": 3,
   "metadata": {},
   "outputs": [
    {
     "data": {
      "image/png": "[encoded data removed]",
      "text/plain": [
       "<Figure size 1000x600 with 1 Axes>"
      ]
     },
     "metadata": {},
     "output_type": "display_data"
    }
   ],
   "source": [
    "max_iters, k = 20, 4\n",
    "clusterer.fit_kmeans(X,k,max_iters,plot=True)"
   ]
  },
  {
   "cell_type": "code",
   "execution_count": 4,
   "metadata": {},
   "outputs": [
    {
     "data": {
      "text/plain": [
       "array([[-6.82289702, -6.82052706],\n",
       "       [ 4.73387011,  2.05552217],\n",
       "       [-8.88062107,  7.14479553],\n",
       "       [-2.7332785 ,  8.96731218]])"
      ]
     },
     "execution_count": 4,
     "metadata": {},
     "output_type": "execute_result"
    }
   ],
   "source": [
    "clusterer.centroids"
   ]
  },
  {
   "cell_type": "code",
   "execution_count": null,
   "metadata": {},
   "outputs": [],
   "source": [
    "del df,X,k,max_iters,clusterer\n",
    "gc.collect();"
   ]
  },
  {
   "cell_type": "code",
   "execution_count": null,
   "metadata": {},
   "outputs": [],
   "source": []
  }
 ],
 "metadata": {
  "kernelspec": {
   "display_name": "Python 3",
   "language": "python",
   "name": "python3"
  },
  "language_info": {
   "codemirror_mode": {
    "name": "ipython",
    "version": 3
   },
   "file_extension": ".py",
   "mimetype": "text/x-python",
   "name": "python",
   "nbconvert_exporter": "python",
   "pygments_lexer": "ipython3",
   "version": "3.8.3"
  }
 },
 "nbformat": 4,
 "nbformat_minor": 2
}
