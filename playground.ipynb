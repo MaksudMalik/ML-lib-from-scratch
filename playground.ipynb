{
 "cells": [
  {
   "cell_type": "code",
   "execution_count": 1,
   "metadata": {},
   "outputs": [],
   "source": [
    "import numpy as np\n",
    "import pandas as pd\n",
    "from sklearn.model_selection import train_test_split\n",
    "from sklearn.metrics import mean_absolute_error, mean_squared_error, r2_score, accuracy_score\n",
    "from sklearn.linear_model import LinearRegression as sk_lr\n",
    "from sklearn.linear_model import LogisticRegression as sk_log_r"
   ]
  },
  {
   "cell_type": "markdown",
   "metadata": {},
   "source": [
    "### 1) Linear Regression"
   ]
  },
  {
   "cell_type": "markdown",
   "metadata": {},
   "source": [
    "##### 1.1 Creating custom dataset for testing model"
   ]
  },
  {
   "cell_type": "code",
   "execution_count": 8,
   "metadata": {},
   "outputs": [],
   "source": [
    "from sklearn.datasets import make_regression\n",
    "X, y, coef = make_regression(n_samples=1000,\n",
    "                             n_features=2,\n",
    "                             n_informative=2,\n",
    "                             noise=10.0,\n",
    "                             bias=1.0,\n",
    "                             coef=True,\n",
    "                             random_state=42)"
   ]
  },
  {
   "cell_type": "code",
   "execution_count": 9,
   "metadata": {},
   "outputs": [
    {
     "data": {
      "text/html": [
       "<div>\n",
       "<style scoped>\n",
       "    .dataframe tbody tr th:only-of-type {\n",
       "        vertical-align: middle;\n",
       "    }\n",
       "\n",
       "    .dataframe tbody tr th {\n",
       "        vertical-align: top;\n",
       "    }\n",
       "\n",
       "    .dataframe thead th {\n",
       "        text-align: right;\n",
       "    }\n",
       "</style>\n",
       "<table border=\"1\" class=\"dataframe\">\n",
       "  <thead>\n",
       "    <tr style=\"text-align: right;\">\n",
       "      <th></th>\n",
       "      <th>feature1</th>\n",
       "      <th>feature2</th>\n",
       "      <th>target (y)</th>\n",
       "      <th>weight1</th>\n",
       "      <th>weight2</th>\n",
       "      <th>bias</th>\n",
       "      <th>y_hat</th>\n",
       "    </tr>\n",
       "  </thead>\n",
       "  <tbody>\n",
       "    <tr>\n",
       "      <th>0</th>\n",
       "      <td>-0.167118</td>\n",
       "      <td>0.146714</td>\n",
       "      <td>-13.996950</td>\n",
       "      <td>40.710649</td>\n",
       "      <td>6.600984</td>\n",
       "      <td>1</td>\n",
       "      <td>-4.835031</td>\n",
       "    </tr>\n",
       "    <tr>\n",
       "      <th>1</th>\n",
       "      <td>-0.020902</td>\n",
       "      <td>0.117327</td>\n",
       "      <td>-11.678089</td>\n",
       "      <td>40.710649</td>\n",
       "      <td>6.600984</td>\n",
       "      <td>1</td>\n",
       "      <td>0.923559</td>\n",
       "    </tr>\n",
       "    <tr>\n",
       "      <th>2</th>\n",
       "      <td>0.150419</td>\n",
       "      <td>0.364961</td>\n",
       "      <td>18.775455</td>\n",
       "      <td>40.710649</td>\n",
       "      <td>6.600984</td>\n",
       "      <td>1</td>\n",
       "      <td>9.532753</td>\n",
       "    </tr>\n",
       "    <tr>\n",
       "      <th>3</th>\n",
       "      <td>0.555604</td>\n",
       "      <td>0.089581</td>\n",
       "      <td>7.661465</td>\n",
       "      <td>40.710649</td>\n",
       "      <td>6.600984</td>\n",
       "      <td>1</td>\n",
       "      <td>24.210339</td>\n",
       "    </tr>\n",
       "    <tr>\n",
       "      <th>4</th>\n",
       "      <td>0.058209</td>\n",
       "      <td>-1.142970</td>\n",
       "      <td>-13.195530</td>\n",
       "      <td>40.710649</td>\n",
       "      <td>6.600984</td>\n",
       "      <td>1</td>\n",
       "      <td>-4.175014</td>\n",
       "    </tr>\n",
       "  </tbody>\n",
       "</table>\n",
       "</div>"
      ],
      "text/plain": [
       "   feature1  feature2  target (y)    weight1   weight2  bias      y_hat\n",
       "0 -0.167118  0.146714  -13.996950  40.710649  6.600984     1  -4.835031\n",
       "1 -0.020902  0.117327  -11.678089  40.710649  6.600984     1   0.923559\n",
       "2  0.150419  0.364961   18.775455  40.710649  6.600984     1   9.532753\n",
       "3  0.555604  0.089581    7.661465  40.710649  6.600984     1  24.210339\n",
       "4  0.058209 -1.142970  -13.195530  40.710649  6.600984     1  -4.175014"
      ]
     },
     "execution_count": 9,
     "metadata": {},
     "output_type": "execute_result"
    }
   ],
   "source": [
    "df = pd.DataFrame(\n",
    "           data={'feature1':X[:,0],\n",
    "                 'feature2':X[:,1],\n",
    "                 'target (y)':y, \n",
    "                 'weight1':coef[0],\n",
    "                 'weight2':coef[1], \n",
    "                 'bias':1 , \n",
    "                 'y_hat': ((coef[0]*X[:,0])+(coef[1]*X[:,1]))+1 })\n",
    "df.head()"
   ]
  },
  {
   "cell_type": "code",
   "execution_count": 10,
   "metadata": {},
   "outputs": [],
   "source": [
    "X=df.drop(columns=['target (y)','weight1','weight2','bias','y_hat'],index=None)\n",
    "Y=df['target (y)']\n",
    "X_train, X_test, Y_train, Y_test = train_test_split(X, Y, test_size=0.2)"
   ]
  },
  {
   "cell_type": "markdown",
   "metadata": {},
   "source": [
    "##### 1.2 Training the custom made model with the dataset"
   ]
  },
  {
   "cell_type": "code",
   "execution_count": 3,
   "metadata": {},
   "outputs": [],
   "source": [
    "#Import our custom model\n",
    "from my_lib.LinearRegression_LinAlg import LinearRegression as custom_lr"
   ]
  },
  {
   "cell_type": "code",
   "execution_count": 11,
   "metadata": {},
   "outputs": [
    {
     "name": "stdout",
     "output_type": "stream",
     "text": [
      "Model Trained\n",
      "Custom model weights= [41.07236248  6.7490159 ]\n",
      "Custom model bias=: 1.1799319753575315\n"
     ]
    }
   ],
   "source": [
    "custom_model=custom_lr()\n",
    "custom_model.train(X_train,Y_train)\n",
    "print(\"Model Trained\")\n",
    "print(\"Custom model weights=\", custom_model.coefficient)\n",
    "print(\"Custom model bias=:\", custom_model.bias)"
   ]
  },
  {
   "cell_type": "code",
   "execution_count": 12,
   "metadata": {},
   "outputs": [
    {
     "data": {
      "text/plain": [
       "0.9352226531580733"
      ]
     },
     "execution_count": 12,
     "metadata": {},
     "output_type": "execute_result"
    }
   ],
   "source": [
    "Y_pred = custom_model.predict(X_test)\n",
    "accuracy = r2_score(Y_test, Y_pred)\n",
    "accuracy"
   ]
  },
  {
   "cell_type": "markdown",
   "metadata": {},
   "source": [
    "##### 1.3 Custom model VS sci-kit learn's regression "
   ]
  },
  {
   "cell_type": "code",
   "execution_count": 13,
   "metadata": {},
   "outputs": [
    {
     "name": "stdout",
     "output_type": "stream",
     "text": [
      "Model Trained\n",
      "Sklearn weights= [41.07236248  6.7490159 ]\n",
      "Sklearn bias=: 1.1799319753575317\n"
     ]
    }
   ],
   "source": [
    "model=sk_lr()\n",
    "model.fit(X_train,Y_train)\n",
    "print(\"Model Trained\")\n",
    "print(\"Sklearn weights=\", model.coef_)\n",
    "print(\"Sklearn bias=:\", model.intercept_)"
   ]
  },
  {
   "cell_type": "code",
   "execution_count": 14,
   "metadata": {},
   "outputs": [
    {
     "data": {
      "text/plain": [
       "0.9352226531580733"
      ]
     },
     "execution_count": 14,
     "metadata": {},
     "output_type": "execute_result"
    }
   ],
   "source": [
    "Y_pred = model.predict(X_test)\n",
    "accuracy = r2_score(Y_test, Y_pred)\n",
    "accuracy"
   ]
  },
  {
   "cell_type": "markdown",
   "metadata": {},
   "source": [
    "### 2) Logistic Regression"
   ]
  },
  {
   "cell_type": "markdown",
   "metadata": {},
   "source": [
    "##### 2.1 Creating custom dataset for testing model"
   ]
  },
  {
   "cell_type": "code",
   "execution_count": 2,
   "metadata": {},
   "outputs": [
    {
     "data": {
      "text/html": [
       "<div>\n",
       "<style scoped>\n",
       "    .dataframe tbody tr th:only-of-type {\n",
       "        vertical-align: middle;\n",
       "    }\n",
       "\n",
       "    .dataframe tbody tr th {\n",
       "        vertical-align: top;\n",
       "    }\n",
       "\n",
       "    .dataframe thead th {\n",
       "        text-align: right;\n",
       "    }\n",
       "</style>\n",
       "<table border=\"1\" class=\"dataframe\">\n",
       "  <thead>\n",
       "    <tr style=\"text-align: right;\">\n",
       "      <th></th>\n",
       "      <th>Feature_1</th>\n",
       "      <th>Feature_2</th>\n",
       "      <th>Feature_3</th>\n",
       "      <th>Feature_4</th>\n",
       "      <th>Feature_5</th>\n",
       "      <th>Target</th>\n",
       "    </tr>\n",
       "  </thead>\n",
       "  <tbody>\n",
       "    <tr>\n",
       "      <th>0</th>\n",
       "      <td>0.317453</td>\n",
       "      <td>0.768328</td>\n",
       "      <td>-0.332860</td>\n",
       "      <td>-1.218005</td>\n",
       "      <td>1.440387</td>\n",
       "      <td>1</td>\n",
       "    </tr>\n",
       "    <tr>\n",
       "      <th>1</th>\n",
       "      <td>1.065172</td>\n",
       "      <td>0.337779</td>\n",
       "      <td>1.452617</td>\n",
       "      <td>-0.828461</td>\n",
       "      <td>0.979448</td>\n",
       "      <td>1</td>\n",
       "    </tr>\n",
       "    <tr>\n",
       "      <th>2</th>\n",
       "      <td>0.466671</td>\n",
       "      <td>1.567346</td>\n",
       "      <td>1.521006</td>\n",
       "      <td>0.818854</td>\n",
       "      <td>-0.965285</td>\n",
       "      <td>0</td>\n",
       "    </tr>\n",
       "    <tr>\n",
       "      <th>3</th>\n",
       "      <td>1.497432</td>\n",
       "      <td>0.224761</td>\n",
       "      <td>1.857702</td>\n",
       "      <td>-1.157030</td>\n",
       "      <td>1.367534</td>\n",
       "      <td>1</td>\n",
       "    </tr>\n",
       "    <tr>\n",
       "      <th>4</th>\n",
       "      <td>-1.366858</td>\n",
       "      <td>1.150180</td>\n",
       "      <td>0.592567</td>\n",
       "      <td>-0.934416</td>\n",
       "      <td>1.105847</td>\n",
       "      <td>1</td>\n",
       "    </tr>\n",
       "    <tr>\n",
       "      <th>...</th>\n",
       "      <td>...</td>\n",
       "      <td>...</td>\n",
       "      <td>...</td>\n",
       "      <td>...</td>\n",
       "      <td>...</td>\n",
       "      <td>...</td>\n",
       "    </tr>\n",
       "    <tr>\n",
       "      <th>995</th>\n",
       "      <td>-1.951102</td>\n",
       "      <td>-0.125265</td>\n",
       "      <td>0.143588</td>\n",
       "      <td>-1.158613</td>\n",
       "      <td>1.368888</td>\n",
       "      <td>1</td>\n",
       "    </tr>\n",
       "    <tr>\n",
       "      <th>996</th>\n",
       "      <td>-0.889241</td>\n",
       "      <td>1.772590</td>\n",
       "      <td>0.955301</td>\n",
       "      <td>0.508680</td>\n",
       "      <td>-0.598465</td>\n",
       "      <td>0</td>\n",
       "    </tr>\n",
       "    <tr>\n",
       "      <th>997</th>\n",
       "      <td>-1.153332</td>\n",
       "      <td>1.513910</td>\n",
       "      <td>-1.687344</td>\n",
       "      <td>-1.162699</td>\n",
       "      <td>1.376134</td>\n",
       "      <td>1</td>\n",
       "    </tr>\n",
       "    <tr>\n",
       "      <th>998</th>\n",
       "      <td>-1.070852</td>\n",
       "      <td>1.098807</td>\n",
       "      <td>1.911419</td>\n",
       "      <td>-0.807573</td>\n",
       "      <td>0.955887</td>\n",
       "      <td>1</td>\n",
       "    </tr>\n",
       "    <tr>\n",
       "      <th>999</th>\n",
       "      <td>-0.064078</td>\n",
       "      <td>-0.209269</td>\n",
       "      <td>0.536291</td>\n",
       "      <td>-2.034344</td>\n",
       "      <td>2.403570</td>\n",
       "      <td>1</td>\n",
       "    </tr>\n",
       "  </tbody>\n",
       "</table>\n",
       "<p>1000 rows × 6 columns</p>\n",
       "</div>"
      ],
      "text/plain": [
       "     Feature_1  Feature_2  Feature_3  Feature_4  Feature_5  Target\n",
       "0     0.317453   0.768328  -0.332860  -1.218005   1.440387       1\n",
       "1     1.065172   0.337779   1.452617  -0.828461   0.979448       1\n",
       "2     0.466671   1.567346   1.521006   0.818854  -0.965285       0\n",
       "3     1.497432   0.224761   1.857702  -1.157030   1.367534       1\n",
       "4    -1.366858   1.150180   0.592567  -0.934416   1.105847       1\n",
       "..         ...        ...        ...        ...        ...     ...\n",
       "995  -1.951102  -0.125265   0.143588  -1.158613   1.368888       1\n",
       "996  -0.889241   1.772590   0.955301   0.508680  -0.598465       0\n",
       "997  -1.153332   1.513910  -1.687344  -1.162699   1.376134       1\n",
       "998  -1.070852   1.098807   1.911419  -0.807573   0.955887       1\n",
       "999  -0.064078  -0.209269   0.536291  -2.034344   2.403570       1\n",
       "\n",
       "[1000 rows x 6 columns]"
      ]
     },
     "execution_count": 2,
     "metadata": {},
     "output_type": "execute_result"
    }
   ],
   "source": [
    "from sklearn.datasets import make_classification\n",
    "X, Y = make_classification(n_samples=1000,\n",
    "                           n_features=5,\n",
    "                           n_informative=2,\n",
    "                           n_redundant=1,\n",
    "                           n_repeated=0,\n",
    "                           n_classes=2,\n",
    "                           n_clusters_per_class=1,\n",
    "                           flip_y=0.1,\n",
    "                           random_state=42)\n",
    "df = pd.DataFrame(X, columns=[f'Feature_{i+1}' for i in range(X.shape[1])])\n",
    "df['Target'] = Y\n",
    "df\n"
   ]
  },
  {
   "cell_type": "code",
   "execution_count": 3,
   "metadata": {},
   "outputs": [],
   "source": [
    "X=df.drop(columns=['Target'],index=None)\n",
    "Y=df['Target']\n",
    "X_train, X_test, Y_train, Y_test = train_test_split(X, Y, test_size=0.2)"
   ]
  },
  {
   "cell_type": "markdown",
   "metadata": {},
   "source": [
    "##### 2.2 Training our Model with the dataset"
   ]
  },
  {
   "cell_type": "code",
   "execution_count": 4,
   "metadata": {},
   "outputs": [],
   "source": [
    "#Importing our Custom Model\n",
    "from my_lib.LogisticRegression import LogisticRegression as custom_log_r"
   ]
  },
  {
   "cell_type": "code",
   "execution_count": 5,
   "metadata": {},
   "outputs": [
    {
     "ename": "NameError",
     "evalue": "name 'X_train' is not defined",
     "output_type": "error",
     "traceback": [
      "\u001b[1;31m---------------------------------------------------------------------------\u001b[0m",
      "\u001b[1;31mNameError\u001b[0m                                 Traceback (most recent call last)",
      "Cell \u001b[1;32mIn[5], line 2\u001b[0m\n\u001b[0;32m      1\u001b[0m custom_classifier\u001b[38;5;241m=\u001b[39mcustom_log_r()\n\u001b[1;32m----> 2\u001b[0m custom_classifier\u001b[38;5;241m.\u001b[39mtrain(\u001b[43mX_train\u001b[49m,Y_train)\n\u001b[0;32m      3\u001b[0m \u001b[38;5;28mprint\u001b[39m(\u001b[38;5;124m\"\u001b[39m\u001b[38;5;124mModel Trained\u001b[39m\u001b[38;5;124m\"\u001b[39m)\n\u001b[0;32m      4\u001b[0m \u001b[38;5;28mprint\u001b[39m(\u001b[38;5;124m\"\u001b[39m\u001b[38;5;124mCustom classifier weights=\u001b[39m\u001b[38;5;124m\"\u001b[39m, custom_classifier\u001b[38;5;241m.\u001b[39mcoefficient)\n",
      "\u001b[1;31mNameError\u001b[0m: name 'X_train' is not defined"
     ]
    }
   ],
   "source": [
    "custom_classifier=custom_log_r()\n",
    "custom_classifier.train(X_train,Y_train)\n",
    "print(\"Model Trained\")\n",
    "print(\"Custom classifier weights=\", custom_classifier.coefficient)\n",
    "print(\"Custom classifier bias=:\", custom_classifier.bias)"
   ]
  },
  {
   "cell_type": "code",
   "execution_count": 5,
   "metadata": {},
   "outputs": [
    {
     "data": {
      "text/plain": [
       "0.905"
      ]
     },
     "execution_count": 5,
     "metadata": {},
     "output_type": "execute_result"
    }
   ],
   "source": [
    "Y_pred = custom_classifier.predict(X_test)\n",
    "accuracy = accuracy_score(Y_test, Y_pred)\n",
    "accuracy"
   ]
  },
  {
   "cell_type": "markdown",
   "metadata": {},
   "source": [
    "##### 2.3 Custom Model vs SkLearn Classifier"
   ]
  },
  {
   "cell_type": "code",
   "execution_count": 6,
   "metadata": {},
   "outputs": [
    {
     "name": "stdout",
     "output_type": "stream",
     "text": [
      "Model Trained\n",
      "Sklearn Classifier weights= [[ 0.06731352 -0.25255864 -0.15022302 -1.07231057  1.26672082]]\n",
      "Sklearn Classifier bias=: [0.54321613]\n"
     ]
    }
   ],
   "source": [
    "classifier=sk_log_r()\n",
    "classifier.fit(X_train,Y_train)\n",
    "print(\"Model Trained\")\n",
    "print(\"Sklearn Classifier weights=\", classifier.coef_)\n",
    "print(\"Sklearn Classifier bias=:\", classifier.intercept_)"
   ]
  },
  {
   "cell_type": "code",
   "execution_count": 7,
   "metadata": {},
   "outputs": [
    {
     "data": {
      "text/plain": [
       "0.91"
      ]
     },
     "execution_count": 7,
     "metadata": {},
     "output_type": "execute_result"
    }
   ],
   "source": [
    "Y_pred = classifier.predict(X_test)\n",
    "accuracy = accuracy_score(Y_test, Y_pred)\n",
    "accuracy"
   ]
  },
  {
   "cell_type": "code",
   "execution_count": 1,
   "metadata": {},
   "outputs": [],
   "source": [
    "from my_lib.Encoders import OneHotEncoder"
   ]
  },
  {
   "cell_type": "code",
   "execution_count": 2,
   "metadata": {},
   "outputs": [],
   "source": [
    "df3=pd.read_csv(\"BCS_data.csv\")"
   ]
  },
  {
   "cell_type": "code",
   "execution_count": 3,
   "metadata": {},
   "outputs": [],
   "source": [
    "features=['Gender','Dept']\n",
    "# for feature in features:\n",
    "#     for var in df3[feature].unique():\n",
    "#         feature_name=f'{feature}_{var}'\n",
    "#         df3[feature_name]=(df3[feature]==var).astype(int)\n",
    "# df3"
   ]
  },
  {
   "cell_type": "code",
   "execution_count": 4,
   "metadata": {},
   "outputs": [],
   "source": [
    "df4=OneHotEncoder.encode(df3,features)"
   ]
  },
  {
   "cell_type": "code",
   "execution_count": 5,
   "metadata": {},
   "outputs": [
    {
     "data": {
      "text/html": [
       "<div>\n",
       "<style scoped>\n",
       "    .dataframe tbody tr th:only-of-type {\n",
       "        vertical-align: middle;\n",
       "    }\n",
       "\n",
       "    .dataframe tbody tr th {\n",
       "        vertical-align: top;\n",
       "    }\n",
       "\n",
       "    .dataframe thead th {\n",
       "        text-align: right;\n",
       "    }\n",
       "</style>\n",
       "<table border=\"1\" class=\"dataframe\">\n",
       "  <thead>\n",
       "    <tr style=\"text-align: right;\">\n",
       "      <th></th>\n",
       "      <th>Age</th>\n",
       "      <th>Gender</th>\n",
       "      <th>Dept</th>\n",
       "      <th>Type</th>\n",
       "    </tr>\n",
       "  </thead>\n",
       "  <tbody>\n",
       "    <tr>\n",
       "      <th>0</th>\n",
       "      <td>26</td>\n",
       "      <td>Male</td>\n",
       "      <td>Police</td>\n",
       "      <td>Cadre</td>\n",
       "    </tr>\n",
       "    <tr>\n",
       "      <th>1</th>\n",
       "      <td>31</td>\n",
       "      <td>Male</td>\n",
       "      <td>Tax</td>\n",
       "      <td>Non-Cadre</td>\n",
       "    </tr>\n",
       "    <tr>\n",
       "      <th>2</th>\n",
       "      <td>24</td>\n",
       "      <td>Female</td>\n",
       "      <td>Admin</td>\n",
       "      <td>Cadre</td>\n",
       "    </tr>\n",
       "    <tr>\n",
       "      <th>3</th>\n",
       "      <td>34</td>\n",
       "      <td>Male</td>\n",
       "      <td>Tax</td>\n",
       "      <td>Cadre</td>\n",
       "    </tr>\n",
       "    <tr>\n",
       "      <th>4</th>\n",
       "      <td>27</td>\n",
       "      <td>Male</td>\n",
       "      <td>Admin</td>\n",
       "      <td>Cadre</td>\n",
       "    </tr>\n",
       "    <tr>\n",
       "      <th>5</th>\n",
       "      <td>28</td>\n",
       "      <td>Female</td>\n",
       "      <td>Admin</td>\n",
       "      <td>Non-Cadre</td>\n",
       "    </tr>\n",
       "    <tr>\n",
       "      <th>6</th>\n",
       "      <td>25</td>\n",
       "      <td>Female</td>\n",
       "      <td>Tax</td>\n",
       "      <td>Non-Cadre</td>\n",
       "    </tr>\n",
       "    <tr>\n",
       "      <th>7</th>\n",
       "      <td>30</td>\n",
       "      <td>Male</td>\n",
       "      <td>Police</td>\n",
       "      <td>Cadre</td>\n",
       "    </tr>\n",
       "    <tr>\n",
       "      <th>8</th>\n",
       "      <td>29</td>\n",
       "      <td>Female</td>\n",
       "      <td>Admin</td>\n",
       "      <td>Cadre</td>\n",
       "    </tr>\n",
       "    <tr>\n",
       "      <th>9</th>\n",
       "      <td>33</td>\n",
       "      <td>Male</td>\n",
       "      <td>Tax</td>\n",
       "      <td>Non-Cadre</td>\n",
       "    </tr>\n",
       "  </tbody>\n",
       "</table>\n",
       "</div>"
      ],
      "text/plain": [
       "   Age  Gender    Dept       Type\n",
       "0   26    Male  Police      Cadre\n",
       "1   31    Male     Tax  Non-Cadre\n",
       "2   24  Female   Admin      Cadre\n",
       "3   34    Male     Tax      Cadre\n",
       "4   27    Male   Admin      Cadre\n",
       "5   28  Female   Admin  Non-Cadre\n",
       "6   25  Female     Tax  Non-Cadre\n",
       "7   30    Male  Police      Cadre\n",
       "8   29  Female   Admin      Cadre\n",
       "9   33    Male     Tax  Non-Cadre"
      ]
     },
     "execution_count": 5,
     "metadata": {},
     "output_type": "execute_result"
    }
   ],
   "source": [
    "df3"
   ]
  },
  {
   "cell_type": "code",
   "execution_count": 6,
   "metadata": {},
   "outputs": [
    {
     "data": {
      "text/html": [
       "<div>\n",
       "<style scoped>\n",
       "    .dataframe tbody tr th:only-of-type {\n",
       "        vertical-align: middle;\n",
       "    }\n",
       "\n",
       "    .dataframe tbody tr th {\n",
       "        vertical-align: top;\n",
       "    }\n",
       "\n",
       "    .dataframe thead th {\n",
       "        text-align: right;\n",
       "    }\n",
       "</style>\n",
       "<table border=\"1\" class=\"dataframe\">\n",
       "  <thead>\n",
       "    <tr style=\"text-align: right;\">\n",
       "      <th></th>\n",
       "      <th>Age</th>\n",
       "      <th>Gender</th>\n",
       "      <th>Dept</th>\n",
       "      <th>Type</th>\n",
       "      <th>Gender_Male</th>\n",
       "      <th>Gender_Female</th>\n",
       "      <th>Dept_Police</th>\n",
       "      <th>Dept_Tax</th>\n",
       "      <th>Dept_Admin</th>\n",
       "    </tr>\n",
       "  </thead>\n",
       "  <tbody>\n",
       "    <tr>\n",
       "      <th>0</th>\n",
       "      <td>26</td>\n",
       "      <td>Male</td>\n",
       "      <td>Police</td>\n",
       "      <td>Cadre</td>\n",
       "      <td>1</td>\n",
       "      <td>0</td>\n",
       "      <td>1</td>\n",
       "      <td>0</td>\n",
       "      <td>0</td>\n",
       "    </tr>\n",
       "    <tr>\n",
       "      <th>1</th>\n",
       "      <td>31</td>\n",
       "      <td>Male</td>\n",
       "      <td>Tax</td>\n",
       "      <td>Non-Cadre</td>\n",
       "      <td>1</td>\n",
       "      <td>0</td>\n",
       "      <td>0</td>\n",
       "      <td>1</td>\n",
       "      <td>0</td>\n",
       "    </tr>\n",
       "    <tr>\n",
       "      <th>2</th>\n",
       "      <td>24</td>\n",
       "      <td>Female</td>\n",
       "      <td>Admin</td>\n",
       "      <td>Cadre</td>\n",
       "      <td>0</td>\n",
       "      <td>1</td>\n",
       "      <td>0</td>\n",
       "      <td>0</td>\n",
       "      <td>1</td>\n",
       "    </tr>\n",
       "    <tr>\n",
       "      <th>3</th>\n",
       "      <td>34</td>\n",
       "      <td>Male</td>\n",
       "      <td>Tax</td>\n",
       "      <td>Cadre</td>\n",
       "      <td>1</td>\n",
       "      <td>0</td>\n",
       "      <td>0</td>\n",
       "      <td>1</td>\n",
       "      <td>0</td>\n",
       "    </tr>\n",
       "    <tr>\n",
       "      <th>4</th>\n",
       "      <td>27</td>\n",
       "      <td>Male</td>\n",
       "      <td>Admin</td>\n",
       "      <td>Cadre</td>\n",
       "      <td>1</td>\n",
       "      <td>0</td>\n",
       "      <td>0</td>\n",
       "      <td>0</td>\n",
       "      <td>1</td>\n",
       "    </tr>\n",
       "    <tr>\n",
       "      <th>5</th>\n",
       "      <td>28</td>\n",
       "      <td>Female</td>\n",
       "      <td>Admin</td>\n",
       "      <td>Non-Cadre</td>\n",
       "      <td>0</td>\n",
       "      <td>1</td>\n",
       "      <td>0</td>\n",
       "      <td>0</td>\n",
       "      <td>1</td>\n",
       "    </tr>\n",
       "    <tr>\n",
       "      <th>6</th>\n",
       "      <td>25</td>\n",
       "      <td>Female</td>\n",
       "      <td>Tax</td>\n",
       "      <td>Non-Cadre</td>\n",
       "      <td>0</td>\n",
       "      <td>1</td>\n",
       "      <td>0</td>\n",
       "      <td>1</td>\n",
       "      <td>0</td>\n",
       "    </tr>\n",
       "    <tr>\n",
       "      <th>7</th>\n",
       "      <td>30</td>\n",
       "      <td>Male</td>\n",
       "      <td>Police</td>\n",
       "      <td>Cadre</td>\n",
       "      <td>1</td>\n",
       "      <td>0</td>\n",
       "      <td>1</td>\n",
       "      <td>0</td>\n",
       "      <td>0</td>\n",
       "    </tr>\n",
       "    <tr>\n",
       "      <th>8</th>\n",
       "      <td>29</td>\n",
       "      <td>Female</td>\n",
       "      <td>Admin</td>\n",
       "      <td>Cadre</td>\n",
       "      <td>0</td>\n",
       "      <td>1</td>\n",
       "      <td>0</td>\n",
       "      <td>0</td>\n",
       "      <td>1</td>\n",
       "    </tr>\n",
       "    <tr>\n",
       "      <th>9</th>\n",
       "      <td>33</td>\n",
       "      <td>Male</td>\n",
       "      <td>Tax</td>\n",
       "      <td>Non-Cadre</td>\n",
       "      <td>1</td>\n",
       "      <td>0</td>\n",
       "      <td>0</td>\n",
       "      <td>1</td>\n",
       "      <td>0</td>\n",
       "    </tr>\n",
       "  </tbody>\n",
       "</table>\n",
       "</div>"
      ],
      "text/plain": [
       "   Age  Gender    Dept       Type  Gender_Male  Gender_Female  Dept_Police  \\\n",
       "0   26    Male  Police      Cadre            1              0            1   \n",
       "1   31    Male     Tax  Non-Cadre            1              0            0   \n",
       "2   24  Female   Admin      Cadre            0              1            0   \n",
       "3   34    Male     Tax      Cadre            1              0            0   \n",
       "4   27    Male   Admin      Cadre            1              0            0   \n",
       "5   28  Female   Admin  Non-Cadre            0              1            0   \n",
       "6   25  Female     Tax  Non-Cadre            0              1            0   \n",
       "7   30    Male  Police      Cadre            1              0            1   \n",
       "8   29  Female   Admin      Cadre            0              1            0   \n",
       "9   33    Male     Tax  Non-Cadre            1              0            0   \n",
       "\n",
       "   Dept_Tax  Dept_Admin  \n",
       "0         0           0  \n",
       "1         1           0  \n",
       "2         0           1  \n",
       "3         1           0  \n",
       "4         0           1  \n",
       "5         0           1  \n",
       "6         1           0  \n",
       "7         0           0  \n",
       "8         0           1  \n",
       "9         1           0  "
      ]
     },
     "execution_count": 6,
     "metadata": {},
     "output_type": "execute_result"
    }
   ],
   "source": [
    "df4"
   ]
  },
  {
   "cell_type": "code",
   "execution_count": 7,
   "metadata": {},
   "outputs": [],
   "source": [
    "from sklearn.preprocessing import OneHotEncoder"
   ]
  },
  {
   "cell_type": "code",
   "execution_count": null,
   "metadata": {},
   "outputs": [],
   "source": []
  }
 ],
 "metadata": {
  "kernelspec": {
   "display_name": "Python 3",
   "language": "python",
   "name": "python3"
  },
  "language_info": {
   "codemirror_mode": {
    "name": "ipython",
    "version": 3
   },
   "file_extension": ".py",
   "mimetype": "text/x-python",
   "name": "python",
   "nbconvert_exporter": "python",
   "pygments_lexer": "ipython3",
   "version": "3.8.3"
  }
 },
 "nbformat": 4,
 "nbformat_minor": 2
}
