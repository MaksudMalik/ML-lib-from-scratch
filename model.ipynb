{
 "cells": [
  {
   "cell_type": "code",
   "execution_count": 1,
   "metadata": {},
   "outputs": [],
   "source": [
    "import numpy as np\n",
    "import pandas as pd\n",
    "from sklearn.linear_model import LinearRegression\n",
    "from sklearn.model_selection import train_test_split\n",
    "from sklearn.metrics import mean_squared_error\n"
   ]
  },
  {
   "cell_type": "code",
   "execution_count": 2,
   "metadata": {},
   "outputs": [
    {
     "data": {
      "text/html": [
       "<div>\n",
       "<style scoped>\n",
       "    .dataframe tbody tr th:only-of-type {\n",
       "        vertical-align: middle;\n",
       "    }\n",
       "\n",
       "    .dataframe tbody tr th {\n",
       "        vertical-align: top;\n",
       "    }\n",
       "\n",
       "    .dataframe thead th {\n",
       "        text-align: right;\n",
       "    }\n",
       "</style>\n",
       "<table border=\"1\" class=\"dataframe\">\n",
       "  <thead>\n",
       "    <tr style=\"text-align: right;\">\n",
       "      <th></th>\n",
       "      <th>X1</th>\n",
       "      <th>X2</th>\n",
       "      <th>X3</th>\n",
       "      <th>y</th>\n",
       "    </tr>\n",
       "  </thead>\n",
       "  <tbody>\n",
       "    <tr>\n",
       "      <th>0</th>\n",
       "      <td>3.745401</td>\n",
       "      <td>9.507143</td>\n",
       "      <td>7.319939</td>\n",
       "      <td>-9.758717</td>\n",
       "    </tr>\n",
       "    <tr>\n",
       "      <th>1</th>\n",
       "      <td>5.986585</td>\n",
       "      <td>1.560186</td>\n",
       "      <td>1.559945</td>\n",
       "      <td>13.200835</td>\n",
       "    </tr>\n",
       "    <tr>\n",
       "      <th>2</th>\n",
       "      <td>0.580836</td>\n",
       "      <td>8.661761</td>\n",
       "      <td>6.011150</td>\n",
       "      <td>-12.993824</td>\n",
       "    </tr>\n",
       "    <tr>\n",
       "      <th>3</th>\n",
       "      <td>7.080726</td>\n",
       "      <td>0.205845</td>\n",
       "      <td>9.699099</td>\n",
       "      <td>33.623561</td>\n",
       "    </tr>\n",
       "    <tr>\n",
       "      <th>4</th>\n",
       "      <td>8.324426</td>\n",
       "      <td>2.123391</td>\n",
       "      <td>1.818250</td>\n",
       "      <td>14.919216</td>\n",
       "    </tr>\n",
       "    <tr>\n",
       "      <th>...</th>\n",
       "      <td>...</td>\n",
       "      <td>...</td>\n",
       "      <td>...</td>\n",
       "      <td>...</td>\n",
       "    </tr>\n",
       "    <tr>\n",
       "      <th>95</th>\n",
       "      <td>0.359423</td>\n",
       "      <td>4.655980</td>\n",
       "      <td>5.426446</td>\n",
       "      <td>-1.645753</td>\n",
       "    </tr>\n",
       "    <tr>\n",
       "      <th>96</th>\n",
       "      <td>2.865413</td>\n",
       "      <td>5.908333</td>\n",
       "      <td>0.305002</td>\n",
       "      <td>-8.866716</td>\n",
       "    </tr>\n",
       "    <tr>\n",
       "      <th>97</th>\n",
       "      <td>0.373482</td>\n",
       "      <td>8.226006</td>\n",
       "      <td>3.601906</td>\n",
       "      <td>-17.012851</td>\n",
       "    </tr>\n",
       "    <tr>\n",
       "      <th>98</th>\n",
       "      <td>1.270605</td>\n",
       "      <td>5.222433</td>\n",
       "      <td>7.699936</td>\n",
       "      <td>0.800353</td>\n",
       "    </tr>\n",
       "    <tr>\n",
       "      <th>99</th>\n",
       "      <td>2.158210</td>\n",
       "      <td>6.228905</td>\n",
       "      <td>0.853475</td>\n",
       "      <td>-12.101789</td>\n",
       "    </tr>\n",
       "  </tbody>\n",
       "</table>\n",
       "<p>100 rows × 4 columns</p>\n",
       "</div>"
      ],
      "text/plain": [
       "          X1        X2        X3          y\n",
       "0   3.745401  9.507143  7.319939  -9.758717\n",
       "1   5.986585  1.560186  1.559945  13.200835\n",
       "2   0.580836  8.661761  6.011150 -12.993824\n",
       "3   7.080726  0.205845  9.699099  33.623561\n",
       "4   8.324426  2.123391  1.818250  14.919216\n",
       "..       ...       ...       ...        ...\n",
       "95  0.359423  4.655980  5.426446  -1.645753\n",
       "96  2.865413  5.908333  0.305002  -8.866716\n",
       "97  0.373482  8.226006  3.601906 -17.012851\n",
       "98  1.270605  5.222433  7.699936   0.800353\n",
       "99  2.158210  6.228905  0.853475 -12.101789\n",
       "\n",
       "[100 rows x 4 columns]"
      ]
     },
     "execution_count": 2,
     "metadata": {},
     "output_type": "execute_result"
    }
   ],
   "source": [
    "df=pd.read_csv(\"mlr_data.csv\")\n",
    "df"
   ]
  },
  {
   "cell_type": "code",
   "execution_count": 3,
   "metadata": {},
   "outputs": [],
   "source": [
    "X=df.drop(columns='y')\n",
    "Y=df.y\n",
    "X_train, X_test, Y_train, Y_test = train_test_split(X, Y, test_size=0.2)"
   ]
  },
  {
   "cell_type": "code",
   "execution_count": 4,
   "metadata": {},
   "outputs": [],
   "source": [
    "model=LinearRegression()\n",
    "model.fit(X_train,Y_train);"
   ]
  },
  {
   "cell_type": "code",
   "execution_count": 5,
   "metadata": {},
   "outputs": [
    {
     "name": "stdout",
     "output_type": "stream",
     "text": [
      "0.8876437242148614\n",
      "a= [ 2.02466169 -3.50131765  1.56421997]\n",
      "b=: 4.59003823877539\n"
     ]
    }
   ],
   "source": [
    "Y_train_pred = model.predict(X_train)\n",
    "mse_train = mean_squared_error(Y_train, Y_train_pred)\n",
    "print(mse_train)\n",
    "weights = model.coef_\n",
    "bias = model.intercept_\n",
    "\n",
    "print(\"a=\", weights)\n",
    "print(\"b=:\", bias)"
   ]
  },
  {
   "cell_type": "code",
   "execution_count": 6,
   "metadata": {},
   "outputs": [],
   "source": [
    "from sklearn.datasets import make_regression\n",
    "X, y, coef = make_regression(n_samples=1000,\n",
    "                             n_features=2,\n",
    "                             n_informative=2,\n",
    "                             noise=10.0,\n",
    "                             bias=1.0,\n",
    "                             coef=True,\n",
    "                             random_state=42)"
   ]
  },
  {
   "cell_type": "code",
   "execution_count": 7,
   "metadata": {},
   "outputs": [
    {
     "data": {
      "text/html": [
       "<div>\n",
       "<style scoped>\n",
       "    .dataframe tbody tr th:only-of-type {\n",
       "        vertical-align: middle;\n",
       "    }\n",
       "\n",
       "    .dataframe tbody tr th {\n",
       "        vertical-align: top;\n",
       "    }\n",
       "\n",
       "    .dataframe thead th {\n",
       "        text-align: right;\n",
       "    }\n",
       "</style>\n",
       "<table border=\"1\" class=\"dataframe\">\n",
       "  <thead>\n",
       "    <tr style=\"text-align: right;\">\n",
       "      <th></th>\n",
       "      <th>feature1</th>\n",
       "      <th>feature2</th>\n",
       "      <th>target (y)</th>\n",
       "      <th>weight1</th>\n",
       "      <th>weight2</th>\n",
       "      <th>bias</th>\n",
       "      <th>y_hat</th>\n",
       "    </tr>\n",
       "  </thead>\n",
       "  <tbody>\n",
       "    <tr>\n",
       "      <th>0</th>\n",
       "      <td>-0.167118</td>\n",
       "      <td>0.146714</td>\n",
       "      <td>-13.996950</td>\n",
       "      <td>40.710649</td>\n",
       "      <td>6.600984</td>\n",
       "      <td>1</td>\n",
       "      <td>-4.835031</td>\n",
       "    </tr>\n",
       "    <tr>\n",
       "      <th>1</th>\n",
       "      <td>-0.020902</td>\n",
       "      <td>0.117327</td>\n",
       "      <td>-11.678089</td>\n",
       "      <td>40.710649</td>\n",
       "      <td>6.600984</td>\n",
       "      <td>1</td>\n",
       "      <td>0.923559</td>\n",
       "    </tr>\n",
       "    <tr>\n",
       "      <th>2</th>\n",
       "      <td>0.150419</td>\n",
       "      <td>0.364961</td>\n",
       "      <td>18.775455</td>\n",
       "      <td>40.710649</td>\n",
       "      <td>6.600984</td>\n",
       "      <td>1</td>\n",
       "      <td>9.532753</td>\n",
       "    </tr>\n",
       "    <tr>\n",
       "      <th>3</th>\n",
       "      <td>0.555604</td>\n",
       "      <td>0.089581</td>\n",
       "      <td>7.661465</td>\n",
       "      <td>40.710649</td>\n",
       "      <td>6.600984</td>\n",
       "      <td>1</td>\n",
       "      <td>24.210339</td>\n",
       "    </tr>\n",
       "    <tr>\n",
       "      <th>4</th>\n",
       "      <td>0.058209</td>\n",
       "      <td>-1.142970</td>\n",
       "      <td>-13.195530</td>\n",
       "      <td>40.710649</td>\n",
       "      <td>6.600984</td>\n",
       "      <td>1</td>\n",
       "      <td>-4.175014</td>\n",
       "    </tr>\n",
       "  </tbody>\n",
       "</table>\n",
       "</div>"
      ],
      "text/plain": [
       "   feature1  feature2  target (y)    weight1   weight2  bias      y_hat\n",
       "0 -0.167118  0.146714  -13.996950  40.710649  6.600984     1  -4.835031\n",
       "1 -0.020902  0.117327  -11.678089  40.710649  6.600984     1   0.923559\n",
       "2  0.150419  0.364961   18.775455  40.710649  6.600984     1   9.532753\n",
       "3  0.555604  0.089581    7.661465  40.710649  6.600984     1  24.210339\n",
       "4  0.058209 -1.142970  -13.195530  40.710649  6.600984     1  -4.175014"
      ]
     },
     "execution_count": 7,
     "metadata": {},
     "output_type": "execute_result"
    }
   ],
   "source": [
    "df = pd.DataFrame(\n",
    "           data={'feature1':X[:,0],\n",
    "                 'feature2':X[:,1],\n",
    "                 'target (y)':y, \n",
    "                 'weight1':coef[0],\n",
    "                 'weight2':coef[1], \n",
    "                 'bias':1 , \n",
    "                 'y_hat': ((coef[0]*X[:,0])+(coef[1]*X[:,1]))+1 })\n",
    "df.head() # let view the dataframe"
   ]
  },
  {
   "cell_type": "code",
   "execution_count": 8,
   "metadata": {},
   "outputs": [],
   "source": [
    "xnew=df.drop(columns=['target (y)','weight1','weight2','bias','y_hat'],index=None)\n",
    "ynew=df['target (y)']"
   ]
  },
  {
   "cell_type": "code",
   "execution_count": 9,
   "metadata": {},
   "outputs": [
    {
     "name": "stdout",
     "output_type": "stream",
     "text": [
      "a= [41.06916799  6.79879364]\n",
      "b=: 1.0156877286323682\n"
     ]
    }
   ],
   "source": [
    "model=LinearRegression()\n",
    "model.fit(xnew,ynew);\n",
    "weights = model.coef_\n",
    "bias = model.intercept_\n",
    "\n",
    "print(\"a=\", weights)\n",
    "print(\"b=:\", bias)"
   ]
  },
  {
   "cell_type": "code",
   "execution_count": 20,
   "metadata": {},
   "outputs": [
    {
     "name": "stderr",
     "output_type": "stream",
     "text": [
      "c:\\Users\\A C E R\\AppData\\Local\\Programs\\Python\\Python38\\lib\\site-packages\\sklearn\\base.py:465: UserWarning: X does not have valid feature names, but LinearRegression was fitted with feature names\n",
      "  warnings.warn(\n"
     ]
    },
    {
     "data": {
      "text/plain": [
       "array([2.67179754])"
      ]
     },
     "execution_count": 20,
     "metadata": {},
     "output_type": "execute_result"
    }
   ],
   "source": [
    "a=np.array([0.020902,0.117327])\n",
    "a_reshaped = a.reshape(1, -1)\n",
    "model.predict(a_reshaped)"
   ]
  },
  {
   "cell_type": "code",
   "execution_count": null,
   "metadata": {},
   "outputs": [],
   "source": []
  }
 ],
 "metadata": {
  "kernelspec": {
   "display_name": "Python 3",
   "language": "python",
   "name": "python3"
  },
  "language_info": {
   "codemirror_mode": {
    "name": "ipython",
    "version": 3
   },
   "file_extension": ".py",
   "mimetype": "text/x-python",
   "name": "python",
   "nbconvert_exporter": "python",
   "pygments_lexer": "ipython3",
   "version": "3.8.3"
  }
 },
 "nbformat": 4,
 "nbformat_minor": 2
}
